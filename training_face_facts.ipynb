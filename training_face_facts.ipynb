{
  "nbformat": 4,
  "nbformat_minor": 0,
  "metadata": {
    "colab": {
      "provenance": []
    },
    "kernelspec": {
      "name": "python3",
      "display_name": "Python 3"
    },
    "language_info": {
      "name": "python"
    }
  },
  "cells": [
    {
      "cell_type": "code",
      "execution_count": null,
      "metadata": {
        "id": "Zg5VGkXCkXtz"
      },
      "outputs": [],
      "source": [
        "!pip install timm pytorch_lightning >/dev/null"
      ]
    },
    {
      "cell_type": "code",
      "execution_count": null,
      "metadata": {
        "id": "P1CewTojkXt0"
      },
      "outputs": [],
      "source": [
        "import os\n",
        "from tqdm import tqdm\n",
        "import torch\n",
        "from torch.utils.data import Dataset\n",
        "import cv2\n",
        "import numpy as np\n",
        "import timm\n",
        "import pytorch_lightning as pl\n",
        "import torch.nn.functional as F\n",
        "from torch.utils.data import DataLoader\n",
        "import matplotlib.pyplot as plt\n",
        "import torch.nn as nn\n",
        "import os\n",
        "import random\n",
        "import pandas as pd\n",
        "import shutil\n",
        "import seaborn as sns\n",
        "\n",
        "torch.manual_seed(42)\n",
        "np.random.seed(42)\n",
        "random.seed(42)"
      ]
    },
    {
      "cell_type": "code",
      "execution_count": null,
      "metadata": {
        "colab": {
          "base_uri": "https://localhost:8080/"
        },
        "id": "NIGZFKX5kXt1",
        "outputId": "243cb2e0-023c-4cb3-a14b-0abba37eeb96"
      },
      "outputs": [
        {
          "output_type": "stream",
          "name": "stdout",
          "text": [
            "Warning: Your Kaggle API key is readable by other users on this system! To fix this, you can run 'chmod 600 /root/.kaggle/kaggle.json'\n",
            "Downloading utkface-new.zip to /content\n",
            " 97% 321M/331M [00:02<00:00, 194MB/s]\n",
            "100% 331M/331M [00:02<00:00, 148MB/s]\n"
          ]
        }
      ],
      "source": [
        "!cp kaggle.json /root/.kaggle/kaggle.json\n",
        "!kaggle datasets download -d jangedoo/utkface-new\n",
        "!unzip -n utkface-new.zip >/dev/null"
      ]
    },
    {
      "cell_type": "code",
      "execution_count": null,
      "metadata": {
        "colab": {
          "base_uri": "https://localhost:8080/"
        },
        "id": "tRpw2nmNkXt1",
        "outputId": "56fd5469-6f48-4db2-8e1f-c0977e674316"
      },
      "outputs": [
        {
          "output_type": "stream",
          "name": "stdout",
          "text": [
            "Validating Dataset...\n"
          ]
        },
        {
          "output_type": "stream",
          "name": "stderr",
          "text": [
            "100%|██████████| 9780/9780 [00:00<00:00, 342735.46it/s]"
          ]
        },
        {
          "output_type": "stream",
          "name": "stdout",
          "text": [
            "\n",
            " Summary\n",
            "----------\n",
            "Valid examples: 9780\n",
            "Invalid examples: 2\n"
          ]
        },
        {
          "output_type": "stream",
          "name": "stderr",
          "text": [
            "\n"
          ]
        }
      ],
      "source": [
        "dir = '/content/crop_part1'\n",
        "images = os.listdir(dir)\n",
        "print('Validating Dataset...')\n",
        "n_invalid = 0\n",
        "n_valid = 0\n",
        "for data in tqdm(images):\n",
        "  data_metadata = data.split('_')\n",
        "  try:\n",
        "    age, gender, race = list(map(int, data_metadata[:3]))\n",
        "  except:\n",
        "    n_invalid += 1\n",
        "    os.remove(dir + '/' + data)\n",
        "  n_valid += 1\n",
        "print('\\n Summary')\n",
        "print('----------')\n",
        "print(f'Valid examples: {n_valid}')\n",
        "print(f'Invalid examples: {n_invalid}')\n",
        "\n",
        "_ = list(map(os.remove, random.sample([dir + '/' + im for im in images if int(im.split('_')[0]) < 4], int(0.7*len([im for im in images if int(im.split('_')[0]) < 4])))))\n",
        "images = os.listdir(dir)\n",
        "\n",
        "train_dir = dir + '/train'\n",
        "valid_dir = dir + '/valid'\n",
        "valid_fraction = 0.1\n",
        "random.shuffle(images)\n",
        "num_valid_images = int(len(images) * valid_fraction)\n",
        "\n",
        "os.makedirs(train_dir, exist_ok=True)\n",
        "os.makedirs(valid_dir, exist_ok=True)\n",
        "\n",
        "for filename in images[:num_valid_images]:\n",
        "    src_path = os.path.join(dir, filename)\n",
        "    dst_path = os.path.join(valid_dir, filename)\n",
        "    shutil.move(src_path, dst_path)\n",
        "\n",
        "for filename in images[num_valid_images:]:\n",
        "    src_path = os.path.join(dir, filename)\n",
        "    dst_path = os.path.join(train_dir, filename)\n",
        "    shutil.move(src_path, dst_path)"
      ]
    },
    {
      "cell_type": "code",
      "execution_count": null,
      "metadata": {
        "id": "zokUX5UAkXt1"
      },
      "outputs": [],
      "source": [
        "gender_dict = {\n",
        "    1: 'Female',\n",
        "    0: 'Male'\n",
        "}\n",
        "race_dict = {\n",
        "    0: 'White', \n",
        "    1: 'Black',\n",
        "    2: 'Asian',\n",
        "    3: 'Indian',\n",
        "    4: 'Others'\n",
        "}"
      ]
    },
    {
      "cell_type": "code",
      "execution_count": null,
      "metadata": {
        "id": "m7FuSNAUkXt1"
      },
      "outputs": [],
      "source": [
        "im_metadata = list(map(lambda x: x.split('_'), os.listdir(dir+'/train')))\n",
        "df = pd.DataFrame(im_metadata, columns = ['age', 'gender', 'race', 'image']).drop('image', axis = 1)\n",
        "df['age'] = df['age'].astype(int)\n",
        "df['gender'] = df['gender'].astype(int)\n",
        "df['race'] = df['race'].astype(int)\n",
        "df['gender'] = df['gender'].map(gender_dict)\n",
        "df['race'] = df['race'].map(race_dict)"
      ]
    },
    {
      "cell_type": "code",
      "execution_count": null,
      "metadata": {
        "colab": {
          "base_uri": "https://localhost:8080/",
          "height": 355
        },
        "id": "xLmh7D2TkXt2",
        "outputId": "e73b4b4d-b483-4d7b-e075-db7e4a60940a"
      },
      "outputs": [
        {
          "output_type": "execute_result",
          "data": {
            "text/plain": [
              "Text(0.5, 1.0, 'Race Distribution')"
            ]
          },
          "metadata": {},
          "execution_count": 10
        },
        {
          "output_type": "display_data",
          "data": {
            "text/plain": [
              "<Figure size 1200x400 with 3 Axes>"
            ],
            "image/png": "[encoded data removed]"
          },
          "metadata": {}
        }
      ],
      "source": [
        "fig, axes = plt.subplots(1, 3, figsize=(12, 4))\n",
        "sns.histplot(x = 'age', data = df, bins = 40, ax = axes[0])\n",
        "sns.countplot(x = 'gender', data = df, ax = axes[1])\n",
        "sns.countplot(x = 'race', data = df, ax = axes[2])\n",
        "\n",
        "axes[0].set_title('Age Distribution')\n",
        "axes[1].set_title('Gender Distribution')\n",
        "axes[2].set_title('Race Distribution')"
      ]
    },
    {
      "cell_type": "code",
      "execution_count": null,
      "metadata": {
        "id": "gDm5Z7Y8kXt2"
      },
      "outputs": [],
      "source": [
        "class AgeGenderRaceDataset(Dataset):\n",
        "    \n",
        "    def __init__(self, data_path):\n",
        "      \n",
        "      self.data = os.listdir(data_path)\n",
        "      self.dir = data_path\n",
        "\n",
        "    def __getitem__(self, index):\n",
        "\n",
        "      image_path = self.data[index]\n",
        "      data_info = self.data[index].split('_')\n",
        "      \n",
        "      image = cv2.imread(self.dir + '/' + image_path)\n",
        "      image = cv2.cvtColor(image, cv2.COLOR_BGR2RGB)\n",
        "      image =  torch.from_numpy(image).permute(2, 0, 1) / 255.0\n",
        "      \n",
        "      age, gender, race = list(map(int, data_info[:3]))\n",
        "     \n",
        "      return image, torch.stack((torch.tensor(age), torch.tensor(gender), torch.tensor(race)))\n",
        "\n",
        "    def __len__(self):\n",
        "      \n",
        "      return len(self.data)"
      ]
    },
    {
      "cell_type": "code",
      "execution_count": null,
      "metadata": {
        "id": "AKE6y_0KkXt3"
      },
      "outputs": [],
      "source": [
        "train_ds = AgeGenderRaceDataset('/content/crop_part1/train')\n",
        "valid_ds = AgeGenderRaceDataset('/content/crop_part1/valid')"
      ]
    },
    {
      "cell_type": "code",
      "execution_count": null,
      "metadata": {
        "colab": {
          "base_uri": "https://localhost:8080/",
          "height": 469
        },
        "id": "Z-UOHUjRkXt3",
        "outputId": "a126349a-e994-45de-c9f0-e85eca1bc421"
      },
      "outputs": [
        {
          "output_type": "execute_result",
          "data": {
            "text/plain": [
              "<matplotlib.image.AxesImage at 0x7faf6e82feb0>"
            ]
          },
          "metadata": {},
          "execution_count": 11
        },
        {
          "output_type": "display_data",
          "data": {
            "text/plain": [
              "<Figure size 640x480 with 1 Axes>"
            ],
            "image/png": "[encoded data removed]"
          },
          "metadata": {}
        }
      ],
      "source": [
        "sample = train_ds[31]\n",
        "plt.title(f'Age: {sample[1][0].item()}    Gender: {gender_dict[sample[1][1].item()]}    Race: {race_dict[sample[1][2].item()]}')\n",
        "plt.imshow(sample[0].permute(1, 2, 0))"
      ]
    },
    {
      "cell_type": "code",
      "execution_count": null,
      "metadata": {
        "id": "BuBxSO8ZkXt4"
      },
      "outputs": [],
      "source": [
        "train_dl = DataLoader(train_ds, batch_size = 16, shuffle = True)\n",
        "valid_dl = DataLoader(valid_ds, batch_size = 16)"
      ]
    },
    {
      "cell_type": "code",
      "execution_count": null,
      "metadata": {
        "id": "Qs3wdTx64Gy0"
      },
      "outputs": [],
      "source": [
        "class CustomModelMain(nn.Module):\n",
        "    def __init__(self, problem_type, n_classes):\n",
        "        super().__init__()\n",
        "        if problem_type == 'Classification' and n_classes == 1:\n",
        "            output = nn.Sigmoid()\n",
        "        elif problem_type == 'Regression' and n_classes == 1:\n",
        "            output = nn.ReLU()\n",
        "        elif problem_type == 'Classification' and n_classes > 1:\n",
        "            output = nn.Softmax(dim = 1)\n",
        "        self.conv1 = nn.Conv2d(in_channels = 3, out_channels = 32, kernel_size = 3, padding = 1)\n",
        "        self.pool1 = nn.MaxPool2d(kernel_size = 2, stride = 2)\n",
        "        self.conv2 = nn.Conv2d(in_channels = 32, out_channels = 64, kernel_size = 3, padding = 1)\n",
        "        self.pool2 = nn.MaxPool2d(kernel_size = 2, stride = 2)\n",
        "        self.conv3 = nn.Conv2d(in_channels = 64, out_channels = 64, kernel_size = 3, padding = 1)\n",
        "        self.pool3 = nn.MaxPool2d(kernel_size = 2, stride = 2)\n",
        "        self.flatten = nn.Flatten()\n",
        "        self.fc1 = nn.Linear(64 * 25 * 25 , 128)\n",
        "        self.relu = nn.ReLU()\n",
        "        self.dropout = nn.Dropout(p = 0.5)\n",
        "        self.fc2 = nn.Linear(128, n_classes)\n",
        "        self.output = output\n",
        "    def forward(self, x):\n",
        "        x = self.conv1(x)\n",
        "        x = self.pool1(x)\n",
        "        x = self.relu(x)\n",
        "        x = self.conv2(x)\n",
        "        x = self.pool2(x)\n",
        "        x = self.relu(x)\n",
        "        x = self.conv3(x)\n",
        "        x = self.pool3(x)\n",
        "        x = self.relu(x)\n",
        "        x = self.flatten(x)\n",
        "        x = self.fc1(x)\n",
        "        x = self.relu(x)\n",
        "        x = self.dropout(x)\n",
        "        x = self.fc2(x)\n",
        "        x = self.output(x)\n",
        "        return x"
      ]
    },
    {
      "cell_type": "markdown",
      "metadata": {
        "id": "O37cNqkGraCY"
      },
      "source": [
        "# Joint Models"
      ]
    },
    {
      "cell_type": "code",
      "execution_count": null,
      "metadata": {
        "colab": {
          "base_uri": "https://localhost:8080/",
          "height": 404,
          "referenced_widgets": [
            "019a8b36a6cd41b08b8f80dbac455ee4",
            "14625a4ab7274d1499e4c6d8329a62f1",
            "2b82f507349c4ea6b587d30caa2632db",
            "b4553cbbc01c472da109dfbb99f3ad02",
            "d14c1665aef148b1bb52b2a98cfb4b4c",
            "6812c43dc246403e9c338af93e424017",
            "69c9bb76b57441d986ae2d8f30c7e3e6",
            "64e70356671e4dd8927f6b254640e9fd",
            "9522c644230f446ab825c92fce5d3075",
            "74ef4f51594f4b8da9d9e3255bebc725",
            "345f866f75bb4724bc0bcefb6066d868",
            "0b60c00c0ccc4d25a73055dd8124a381",
            "cf5bd74c880e451788796b425263fc41",
            "03c1b343813b48f0b52678951522f23e",
            "202c419976c34e0dbc16a2373d070cc2",
            "e0de3b8dd341463187b25e922de2dda7",
            "32af8872716e4cdc98bcd5ad7c6d24dc",
            "e77273b5e9164e3297287dad5d4dcaf0",
            "8268c6f3dd324d15bcff97ce093e133f",
            "c0f0f17dcdcb41d7bf2a3a76abb64248",
            "03468b6a52fc412c83a565bf39ec3b85",
            "60cee836b5a54d4b8bf4720ee0e8ef1c",
            "31dee4d4ab6b4fc6af7511aa8662dea7",
            "ddfaee3b80ae47d0a31e7212b70ecf58",
            "18ef5504c4ba4af98ac5fb991f0d0f82",
            "002fde179f5f4d5aa88aebf531dc06fe",
            "e791ef9a147e4aa0a278fc1fdee7736f",
            "a9a957b0db05490e8d020c40e190c3b5",
            "52610a0f5e064f2f8fd41b0135d0709f",
            "1b63a94bd7f240d49abbf20f58870337",
            "42192754c85c411aa7bff2615a31383a",
            "dec53a46a8fe4a4e8461e44f49f40ae4",
            "2cee9865614e4c82a163212c23b44a98",
            "f3c09b7d881e4f47b0f7d156118dfe43",
            "8204ce27f001404cbf89160e27dcb646",
            "1ef8803373ba4bf482c8eed4d45411ba",
            "1d24c7cde89e4bb283d2d041a9147849",
            "275270b223ae479aba9be7ea7823fc62",
            "a0cc81fb847b408090e824a9f99e5d97",
            "3f2f45c6f71542b1aaefca48237465d6",
            "2768a007d02c4c16889df0295c1df59c",
            "bf132599a84c42c08349046e147a87e9",
            "09a89f6d77c74d09ae3d42886e499285",
            "10b6adc4010d41fe90a33ed648af1885",
            "5138c942f65e4d649aae4a1e72e55289",
            "6afffe5aa4dc4354903c003d032fd4b4",
            "45ba2d4bb593455ea1d1a4ad7a0d61a3",
            "7a4b8ef5897c4005af15898833c39ab1",
            "2555d3546e5149d38f2697b7fa123109",
            "8902bda4b5254aaab38912308858e342",
            "f09a2c1ccc1345d2823d787d0c0dbd89",
            "c2069a381402466e96b2d66fa5c3eae6",
            "5489cf36f1ee45568ccde31f98b88192",
            "a11d610dd05b422c9ec62f68d5554da2",
            "dcab63acd34946c98a661fd7324c54a3",
            "ff70c504760c4f6d80bbac54569f0b69",
            "eea97f6c9e4a441d82dc2b11b3500c72",
            "a5c8a4a296424fffbbd11df97f253a3e",
            "f3773a816e9448b5808127d5a1e2c440",
            "8f3c27063b834113ac622fc835c4e378",
            "bae83b75fadb4426be194a3d079b40cf",
            "530b1c980bd3441f8df82546a772e2e3",
            "8042bb95d1c044d89e6a3344247b28b7",
            "32e2f33d023f42068fc553c875f3bc78",
            "4e40f01d68324422b40f7d5d4f737f91",
            "1d72c723bd2a412195ae7d67efc11629",
            "54e28b7d09614e558d989a24ddfdbe7d",
            "aec9383838c540e78d8ba5cd5f50aa65",
            "00b28622275041d29ffc26aca69c749d",
            "7df8796c932c4cdf9fe2d08c53fde4bd",
            "f0774d09018244389ef7a730066349c9",
            "0ef7d2dcbc064c7c80839a3d0b183002",
            "9d215a4cf2d049a5bea3a70941132e4e",
            "510e75de332a4b72bb3093c6951d663c",
            "4facfb671edd49128adabbbd645509a6",
            "3f842c84493442a2b41f389cbe20257f",
            "ea37776dfb7345519783a9fbce5900f8",
            "40c0c0115d67403a8410f989a0a89e37",
            "466f3da003c645c3b154e91c8d83088f",
            "390a215dc73f4aedbd3095ea087d8018",
            "dac2657b107b42c192282346430a7764",
            "febc3b21696c4beb8d427310adb77f6c",
            "7d7645799caa452192296670556bbb7e",
            "6654b221472049daad8acdf49e4765f6",
            "7c148098792143b496f3227dfcf97958",
            "4c8d600edc934022a1b57b7b5c57529b",
            "11a5b26ea4ef48d3a1f8bf0c2c32f1c3",
            "ef551487abee4f9896e8101713697eac",
            "eb1661d796e84033ada4886f5aeba7e6",
            "bd16f40e59ac4463b69fb802050b26cc",
            "e65d7c90ee5d4b73b093ab0b463bd5ce",
            "636c071a4fd24de79e1925337aa754f6",
            "e074ebb914b544c8807e96d9b5861e48",
            "2f7be77eddf44d18833bab2c46028834",
            "e5e26e2be6824c13a1a4137a95e62f4c",
            "aecb6dd4439b4805871a358392b6ac6c",
            "82b7d516fbe9477e949f1e2b733e5b50",
            "e4b448f4215f4546a31f2d21b3edc1e5",
            "a7fa0c7dcea04424b3b13af687ae880a",
            "230742bee28749bfae249b0f3b17cdab",
            "313e00c46b04401fbd06942d43cb8a3a",
            "45f26922391445c891d76f3d1507613c",
            "ea9bbf58e6b54f758ae6990fb75e0cc0",
            "56fda4d51b0d46bbbde341339f706694",
            "10e585c17eb14cc99e4a4459dccad007",
            "25d9db156e4a49a19461228d2f43898f",
            "149c77acd406430fb73e8322bfb23db3",
            "9e9e45ee245c4367aac469cdd386d6c1",
            "e132ad96f2d44f14a5ef0f4583e1ef35",
            "949f55515e0441509bc95e8777c5db2d",
            "dd2a87895b2f44fb9b8bde1bf3a1af04",
            "bd60218f3511484c844f03c8eef4e00e",
            "708f21ffa5b1479e96109670f37ba7f2",
            "e2ed49a00d9c476fbaa5d1fbc296118d",
            "d2769e1d60804980830c0d650b524ab1",
            "fc83c23679ad474b869193b1bc7d867e",
            "486c3786befc4032a054a84ddd3e7b97",
            "2e483aad24f644e08c08e827359a6287",
            "53422721c8b348069395cff43a8040cc",
            "3ebd040a520145158fbb099c54a75657",
            "4cf4e72b5a604b099d74f53b44067edd",
            "56f53897ea7e49768697f37a732a0f3b",
            "4e2de6df997647b9b5aa08efaec9b36c",
            "15003baca47f439dad9c69a39c20ee1a",
            "6385e35a73dc423498b2209ec0091fe0",
            "903df3323ba14030a90e5802bc30288f",
            "32d29b5efb3b4aeebe6a2cc9b9f3e254",
            "098117ff0396473fb13f9d715f95788e",
            "b9b286d7322d46cb8843d8f68185821d",
            "cfbd817c4b014e1b882d576ace42765f",
            "940e9442903d4643826db530a07292c3",
            "02e382159ebf43fd9cb7701d0e698761",
            "1d6631d0db9f409db37da70b99174cf2",
            "ba88b428b84d43a898714f87e27f4d59",
            "e6dbe24e1df342708b37a1cdbc416a2d",
            "8b760ba105eb4ff6b7b51c5dffbe4540",
            "f284de1b63c043a09ae1753ddba934f4",
            "8ebb6888966b48b1839023d75e03c6cf",
            "0668cdd9667a4c968dc654d4211ddd84",
            "5d5a8743b1664ecb913cba60895860e3",
            "96dbb24627824e62bec5fc643d0db8d8",
            "70c088b5ea924afaa5bd7cfeafac357f",
            "1dc918ce2138404782d2d2ce14a2f237",
            "9849811e795c4042a307fea765d0e641",
            "5834c25ef1374cd09f81e445e1355f48",
            "7142b4c4b7244166a00f099c3f1ffcac",
            "e48f3dd8602443119a9a7900ccf56d89",
            "13c135ed6bce40259a6bd3cb59c82fe1",
            "7d46d5acd7d4484b8f11544567f8f87a",
            "95060cdd75f74d0da0ac96fc75b71ff8",
            "580862aae56245bd85f8ec0bd03713b9",
            "f4085e63d7554c11abac54428fc2521c",
            "d558c68ebf024e4595d00821e3e5b8a2",
            "3d4c512c4d5b4d77ab79f0b99865e8e5",
            "dc2b07d154764b24a17e96f075b8cac6",
            "d20e1fda5f3341b48ad182386e8e1a46",
            "291db4505df2410c99ea6dae0f41ffb5",
            "df90666feaab41beb833f4089ab30d29",
            "662c8593f15a486682d9d1a85e0387c5",
            "b96a261d164f40c7b94c23f93f4e3e6a",
            "9a41b1a052ba4a61b6ef9d4c9b7bb9de",
            "e708d1fe1698478fb0f0b755b9a59865",
            "679f0c27474a4d989bcc29d62b48adeb",
            "83875c92beda4b5ba3dcd011d1f1558e",
            "7b7e295cc8d24d9c98ade76d9acc173e",
            "bb7e3179436f4cca8ef26afb347fb2cb",
            "dbebb67992f34665bba5fc0749eb0d3b",
            "d59f7e0d33a54e69a5c6c1466436141b",
            "1b983e6d505f4e4ca0617c8f500ff8ef",
            "453e8647896b4a21a2ecced4bd23fcea",
            "c40f0aeb3f7d40f49dc7bf57dfee8df5",
            "4da7fd781b244ffba8333665e1b32b75",
            "d753764ef2d54a6fa171ae94ff1a2645",
            "9320b9f76a554e8989a270377be48dda",
            "561df1b62e134e38b5377f004bb8a475",
            "6a73442558404130b05ad08a8eb2bea4",
            "c3cd114ee2984259a0cfce84407d4847",
            "4f9d65dcb2c94fcd8c90efa9f1ee7962",
            "00a9a6b9caba41128208352722559332",
            "5256521c5a0046bfa7aa92666d83813f",
            "4efd30d83818465b94b48171de40b2b7",
            "2bf8c8124c6e4b0985ac368e552c32e8",
            "162f46f1d63545a49aec96526657eda8",
            "439f9122d2be44e98451b95058eec3fc",
            "241612129b814f09b6e2dd7f18abdb2b",
            "4ae627d96dd74393a36769c00d86cd2b",
            "f00156c7601548fdb64752c43347e4c4",
            "733fa05b7da541f1ad5fcb01a7be2984",
            "fc20d83438f14d9589cf5bf61462142e",
            "8e2be820f07a4e058831dfd85478787e",
            "742380a618b24a4eab03ee4b0a3f5b73",
            "4569deb38c7b45cfb2e0a8d593ac54a3",
            "67a55179c1a946e5a20ef2463a19f36f",
            "7943ce9a07e34d17ad1654f5e3ddaeb9",
            "6d038da8bf134c94aa5050c70b0fa98e",
            "35fb6dda00d1492da5450cce5761e6d3",
            "fad0c47c9efa47c8916ab23058fd4604",
            "740b306b751b43eba18a9b48acb7a665",
            "517d6d350e914e7c8e17564acaeebde2",
            "1e48592efd0b43329fc6b3ac3ed59d45",
            "23dad1672c80481f86664dca0680b9e8",
            "7626cddf2aac45de80f158ac062676a8",
            "516c1a9ba09045b996f3375090924505",
            "9a8fb4a1b0fa4b1692cb08edc15f93d0",
            "54a669b93e98401fb687cf007f2bb578",
            "852e577bc1f849098fc851830e62d829",
            "a25324e4eed64fb7bf32dad136067c3f",
            "8dd50736afdf4384b5d458665bd8e5a1",
            "983452ec24734777bf9cafe06d6a106c",
            "34512e56789c41fb8372b422dbcc46e4",
            "476c5acf04f34d7e98a1713776d1e555",
            "18102166fe20436f80f2c78c3173f5f8",
            "c5f0c55390d24491b2a0143450c667b7",
            "07d20af646e5428482649172d48e07b1",
            "1b2d5e6ee9a54393902fc21859307d5a",
            "d0b8fc762fd94f9999e12f9cc7f12f72",
            "51502e8ee85640688816b03a323e0e72",
            "54c48a50c12e4d4196bdc2f7c40fd6f0",
            "f1d9797974e441b9aa8e923aba41a417",
            "6bbff51c92514be1bf382be3f9683fa2",
            "46f04daf44e64973af7e83b0649ab920",
            "492b8c3f74464ba9b8af1609ba090f7b",
            "9912bbeb5f5c4c61add35589ae17fa55",
            "f2ac937b4565428dbfcb5d3032bb09a9",
            "be6624d9a22e4ee5b8b3826f8ae432d9",
            "47cd45b2aa9f46379240aec21b054f32",
            "02fee5a202aa41b2b6e46ae747980625",
            "0e667300b5634bde82889fff07ba2b79",
            "fedfbcef965843a9b91f656a5da872d1",
            "87ae3c37c51c4e878398620280670f61",
            "849fecdc5afa4740b6633594e3f24615",
            "74100b3098284ff7a9c85b3825e7408b",
            "3ba53635d9574ba49c0d30e9b57d24f7",
            "66bf817a3c72448d9d446568c08843e5",
            "5d1935e2261c435f9169feef810efea3",
            "d4f21cb22ec8458baef6a8d3dcc356a2",
            "f3a1e8f85fa341a79643e797fbc75a77",
            "7b387b1a86e64622ac1e53afa6e5906f",
            "d681fda5e7454cbfa4c335be75fb72db",
            "e710427ac2d64764a4698834b9fc2c15",
            "90d323e44d0b4b748b48f0c7e5c291f1",
            "c478bbcb9408441a9661a334f266fc7f"
          ]
        },
        "id": "geDzB_e94uk5",
        "outputId": "b3bd7147-24bf-44ea-c14e-7d562c852df6"
      },
      "outputs": [
        {
          "name": "stderr",
          "output_type": "stream",
          "text": [
            "INFO:pytorch_lightning.utilities.rank_zero:GPU available: True (cuda), used: True\n",
            "INFO:pytorch_lightning.utilities.rank_zero:TPU available: False, using: 0 TPU cores\n",
            "INFO:pytorch_lightning.utilities.rank_zero:IPU available: False, using: 0 IPUs\n",
            "INFO:pytorch_lightning.utilities.rank_zero:HPU available: False, using: 0 HPUs\n",
            "INFO:pytorch_lightning.accelerators.cuda:LOCAL_RANK: 0 - CUDA_VISIBLE_DEVICES: [0]\n",
            "INFO:pytorch_lightning.callbacks.model_summary:\n",
            "  | Name         | Type            | Params\n",
            "-------------------------------------------------\n",
            "0 | age_model    | CustomModelMain | 5.2 M \n",
            "1 | gender_model | CustomModelMain | 5.2 M \n",
            "2 | race_model   | CustomModelMain | 5.2 M \n",
            "-------------------------------------------------\n",
            "15.5 M    Trainable params\n",
            "0         Non-trainable params\n",
            "15.5 M    Total params\n",
            "62.121    Total estimated model params size (MB)\n"
          ]
        },
        {
          "data": {
            "application/vnd.jupyter.widget-view+json": {
              "model_id": "019a8b36a6cd41b08b8f80dbac455ee4",
              "version_major": 2,
              "version_minor": 0
            },
            "text/plain": [
              "Sanity Checking: 0it [00:00, ?it/s]"
            ]
          },
          "metadata": {},
          "output_type": "display_data"
        },
        {
          "data": {
            "application/vnd.jupyter.widget-view+json": {
              "model_id": "0b60c00c0ccc4d25a73055dd8124a381",
              "version_major": 2,
              "version_minor": 0
            },
            "text/plain": [
              "Training: 0it [00:00, ?it/s]"
            ]
          },
          "metadata": {},
          "output_type": "display_data"
        },
        {
          "data": {
            "application/vnd.jupyter.widget-view+json": {
              "model_id": "31dee4d4ab6b4fc6af7511aa8662dea7",
              "version_major": 2,
              "version_minor": 0
            },
            "text/plain": [
              "Validation: 0it [00:00, ?it/s]"
            ]
          },
          "metadata": {},
          "output_type": "display_data"
        },
        {
          "data": {
            "application/vnd.jupyter.widget-view+json": {
              "model_id": "f3c09b7d881e4f47b0f7d156118dfe43",
              "version_major": 2,
              "version_minor": 0
            },
            "text/plain": [
              "Validation: 0it [00:00, ?it/s]"
            ]
          },
          "metadata": {},
          "output_type": "display_data"
        },
        {
          "data": {
            "application/vnd.jupyter.widget-view+json": {
              "model_id": "5138c942f65e4d649aae4a1e72e55289",
              "version_major": 2,
              "version_minor": 0
            },
            "text/plain": [
              "Validation: 0it [00:00, ?it/s]"
            ]
          },
          "metadata": {},
          "output_type": "display_data"
        },
        {
          "data": {
            "application/vnd.jupyter.widget-view+json": {
              "model_id": "ff70c504760c4f6d80bbac54569f0b69",
              "version_major": 2,
              "version_minor": 0
            },
            "text/plain": [
              "Validation: 0it [00:00, ?it/s]"
            ]
          },
          "metadata": {},
          "output_type": "display_data"
        },
        {
          "data": {
            "application/vnd.jupyter.widget-view+json": {
              "model_id": "54e28b7d09614e558d989a24ddfdbe7d",
              "version_major": 2,
              "version_minor": 0
            },
            "text/plain": [
              "Validation: 0it [00:00, ?it/s]"
            ]
          },
          "metadata": {},
          "output_type": "display_data"
        },
        {
          "data": {
            "application/vnd.jupyter.widget-view+json": {
              "model_id": "40c0c0115d67403a8410f989a0a89e37",
              "version_major": 2,
              "version_minor": 0
            },
            "text/plain": [
              "Validation: 0it [00:00, ?it/s]"
            ]
          },
          "metadata": {},
          "output_type": "display_data"
        },
        {
          "data": {
            "application/vnd.jupyter.widget-view+json": {
              "model_id": "eb1661d796e84033ada4886f5aeba7e6",
              "version_major": 2,
              "version_minor": 0
            },
            "text/plain": [
              "Validation: 0it [00:00, ?it/s]"
            ]
          },
          "metadata": {},
          "output_type": "display_data"
        },
        {
          "data": {
            "application/vnd.jupyter.widget-view+json": {
              "model_id": "230742bee28749bfae249b0f3b17cdab",
              "version_major": 2,
              "version_minor": 0
            },
            "text/plain": [
              "Validation: 0it [00:00, ?it/s]"
            ]
          },
          "metadata": {},
          "output_type": "display_data"
        },
        {
          "data": {
            "application/vnd.jupyter.widget-view+json": {
              "model_id": "dd2a87895b2f44fb9b8bde1bf3a1af04",
              "version_major": 2,
              "version_minor": 0
            },
            "text/plain": [
              "Validation: 0it [00:00, ?it/s]"
            ]
          },
          "metadata": {},
          "output_type": "display_data"
        },
        {
          "data": {
            "application/vnd.jupyter.widget-view+json": {
              "model_id": "56f53897ea7e49768697f37a732a0f3b",
              "version_major": 2,
              "version_minor": 0
            },
            "text/plain": [
              "Validation: 0it [00:00, ?it/s]"
            ]
          },
          "metadata": {},
          "output_type": "display_data"
        },
        {
          "data": {
            "application/vnd.jupyter.widget-view+json": {
              "model_id": "1d6631d0db9f409db37da70b99174cf2",
              "version_major": 2,
              "version_minor": 0
            },
            "text/plain": [
              "Validation: 0it [00:00, ?it/s]"
            ]
          },
          "metadata": {},
          "output_type": "display_data"
        },
        {
          "data": {
            "application/vnd.jupyter.widget-view+json": {
              "model_id": "9849811e795c4042a307fea765d0e641",
              "version_major": 2,
              "version_minor": 0
            },
            "text/plain": [
              "Validation: 0it [00:00, ?it/s]"
            ]
          },
          "metadata": {},
          "output_type": "display_data"
        },
        {
          "data": {
            "application/vnd.jupyter.widget-view+json": {
              "model_id": "dc2b07d154764b24a17e96f075b8cac6",
              "version_major": 2,
              "version_minor": 0
            },
            "text/plain": [
              "Validation: 0it [00:00, ?it/s]"
            ]
          },
          "metadata": {},
          "output_type": "display_data"
        },
        {
          "data": {
            "application/vnd.jupyter.widget-view+json": {
              "model_id": "bb7e3179436f4cca8ef26afb347fb2cb",
              "version_major": 2,
              "version_minor": 0
            },
            "text/plain": [
              "Validation: 0it [00:00, ?it/s]"
            ]
          },
          "metadata": {},
          "output_type": "display_data"
        },
        {
          "data": {
            "application/vnd.jupyter.widget-view+json": {
              "model_id": "c3cd114ee2984259a0cfce84407d4847",
              "version_major": 2,
              "version_minor": 0
            },
            "text/plain": [
              "Validation: 0it [00:00, ?it/s]"
            ]
          },
          "metadata": {},
          "output_type": "display_data"
        },
        {
          "data": {
            "application/vnd.jupyter.widget-view+json": {
              "model_id": "733fa05b7da541f1ad5fcb01a7be2984",
              "version_major": 2,
              "version_minor": 0
            },
            "text/plain": [
              "Validation: 0it [00:00, ?it/s]"
            ]
          },
          "metadata": {},
          "output_type": "display_data"
        },
        {
          "data": {
            "application/vnd.jupyter.widget-view+json": {
              "model_id": "517d6d350e914e7c8e17564acaeebde2",
              "version_major": 2,
              "version_minor": 0
            },
            "text/plain": [
              "Validation: 0it [00:00, ?it/s]"
            ]
          },
          "metadata": {},
          "output_type": "display_data"
        },
        {
          "data": {
            "application/vnd.jupyter.widget-view+json": {
              "model_id": "34512e56789c41fb8372b422dbcc46e4",
              "version_major": 2,
              "version_minor": 0
            },
            "text/plain": [
              "Validation: 0it [00:00, ?it/s]"
            ]
          },
          "metadata": {},
          "output_type": "display_data"
        },
        {
          "data": {
            "application/vnd.jupyter.widget-view+json": {
              "model_id": "46f04daf44e64973af7e83b0649ab920",
              "version_major": 2,
              "version_minor": 0
            },
            "text/plain": [
              "Validation: 0it [00:00, ?it/s]"
            ]
          },
          "metadata": {},
          "output_type": "display_data"
        },
        {
          "data": {
            "application/vnd.jupyter.widget-view+json": {
              "model_id": "74100b3098284ff7a9c85b3825e7408b",
              "version_major": 2,
              "version_minor": 0
            },
            "text/plain": [
              "Validation: 0it [00:00, ?it/s]"
            ]
          },
          "metadata": {},
          "output_type": "display_data"
        },
        {
          "name": "stderr",
          "output_type": "stream",
          "text": [
            "INFO:pytorch_lightning.utilities.rank_zero:`Trainer.fit` stopped: `max_epochs=20` reached.\n"
          ]
        }
      ],
      "source": [
        "class Ultimate_Lightning(pl.LightningModule):\n",
        "  def __init__(self):\n",
        "    super().__init__()\n",
        "    self.age_model = CustomModelMain('Regression', 1)\n",
        "    self.gender_model = CustomModelMain('Classification', 1)\n",
        "    self.race_model = CustomModelMain('Classification', 5)\n",
        "  def forward(self, x):\n",
        "    return self.age_model(x), self.gender_model(x), self.race_model(x)\n",
        "  def training_step(self, batch, batch_idx):\n",
        "    x, y = batch\n",
        "    y_age, y_gender, y_race = y[:, 0], y[:, 1], y[:, 2]\n",
        "    y_hat_age, y_hat_gender, y_hat_race = self(x)\n",
        "    \n",
        "    age_loss = F.mse_loss(y_hat_age, y_age.unsqueeze(-1).float())\n",
        "    age_acc = torch.eq((y_hat_age > 0.5).int().to(torch.int64), y_age.unsqueeze(-1).int()).all(dim=1).sum() / len(y_age)\n",
        "    \n",
        "    gender_loss = F.binary_cross_entropy(y_hat_gender, y_gender.unsqueeze(-1).float())\n",
        "    gender_acc = torch.eq((y_hat_gender > 0.5).int().to(torch.int64), y_gender.unsqueeze(-1).int()).all(dim=1).sum() / len(y_gender)\n",
        "\n",
        "    y_race_oh = F.one_hot(y_race, num_classes = 5)\n",
        "    race_loss = F.cross_entropy(y_hat_race.log(), y_race_oh.float())\n",
        "    race_preds = y_hat_race.argmax(dim = 1)\n",
        "    race_acc = torch.eq(y_race, race_preds).float().mean()\n",
        "    \n",
        "    total_loss = (0.001 * age_loss) + gender_loss + race_loss\n",
        "\n",
        "    self.log('age loss', age_loss, prog_bar = True)\n",
        "    self.log('gender loss', gender_loss, prog_bar = True)\n",
        "    self.log('race loss', race_loss, prog_bar = True)\n",
        "    self.log('gender acc', gender_acc, prog_bar = True)\n",
        "    self.log('race acc', race_acc, prog_bar = True)\n",
        "    self.log('total loss', total_loss, prog_bar = True)\n",
        "    \n",
        "    return total_loss\n",
        "      \n",
        "  def validation_step(self, batch, batch_idx):\n",
        "    x, y = batch\n",
        "    y_age, y_gender, y_race = y[:, 0], y[:, 1], y[:, 2]\n",
        "    y_hat_age, y_hat_gender, y_hat_race = self(x)\n",
        "    \n",
        "    age_loss = F.mse_loss(y_hat_age, y_age.unsqueeze(-1).float())\n",
        "    age_acc = torch.eq((y_hat_age > 0.5).int().to(torch.int64), y_age.unsqueeze(-1).int()).all(dim=1).sum() / len(y_age)\n",
        "    \n",
        "    gender_loss = F.binary_cross_entropy(y_hat_gender, y_gender.unsqueeze(-1).float())\n",
        "    gender_acc = torch.eq((y_hat_gender > 0.5).int().to(torch.int64), y_gender.unsqueeze(-1).int()).all(dim=1).sum() / len(y_gender)\n",
        "\n",
        "    y_race_oh = F.one_hot(y_race, num_classes = 5)\n",
        "    race_loss = F.cross_entropy(y_hat_race.log(), y_race_oh.float())\n",
        "    race_preds = y_hat_race.argmax(dim = 1)\n",
        "    race_acc = torch.eq(y_race, race_preds).float().mean()\n",
        "    \n",
        "    total_loss = (0.001 * age_loss) + gender_loss + race_loss\n",
        "\n",
        "    self.log('val age loss', age_loss, prog_bar = True)\n",
        "    \n",
        "    self.log('val gender acc', gender_acc, prog_bar = True)\n",
        "    \n",
        "    self.log('val race acc', race_acc, prog_bar = True)\n",
        "    \n",
        "  def configure_optimizers(self):\n",
        "    return torch.optim.Adam(self.parameters(), lr=1e-4)\n",
        "\n",
        "ultimate_trainer = pl.Trainer(max_epochs = 20, accelerator = \"gpu\")\n",
        "ultimate_model = Ultimate_Lightning()\n",
        "\n",
        "ultimate_trainer.fit(ultimate_model, train_dl, valid_dl)"
      ]
    },
    {
      "cell_type": "code",
      "source": [
        "from face_fact_models import age_lightning, gender_lightning, race_lightning\n",
        "trainer = pl.Trainer(max_epochs = 25, accelerator = \"gpu\")\n",
        "age_model = age_lightning()\n",
        "\n",
        "trainer.fit(age_model, train_dl, valid_dl)\n",
        "\n",
        "trainer = pl.Trainer(max_epochs = 25, accelerator = \"gpu\")\n",
        "gender_model = gender_lightning()\n",
        "\n",
        "trainer.fit(gender_model, train_dl, valid_dl)\n",
        "\n",
        "trainer = pl.Trainer(max_epochs = 25, accelerator = \"gpu\")\n",
        "race_model = race_lightning()\n",
        "\n",
        "trainer.fit(race_model, train_dl, valid_dl)"
      ],
      "metadata": {
        "colab": {
          "base_uri": "https://localhost:8080/",
          "height": 894,
          "referenced_widgets": [
            "5a40e6f612894460a0ce7bcb78d2e0d5",
            "52f706b315ce43b7ab02704df99f3d73",
            "480982b7b5b34aeaa8f22dcb239c2ed6",
            "04c219f9347d49d4b2d2b4740fc032e8",
            "54164bc8a8a44c7988b61b1a79664073",
            "45ddf8aabb6c495ea6ca5690b8357f0b",
            "adf125216f4e4d4d81f8c6a6b645ceb9",
            "4da92e8c3bcb4a758596b8fe0813ea10",
            "8a19ec09386e4e2a8095fc064ee28028",
            "b202e2146a6f45ecae62082ff10ebd90",
            "e31762c0caf84cdea386e2cfb2feb236",
            "aa0a849bbc684b268c886e56601f7385",
            "00bb2b5619a046528d5cc498b810a316",
            "68956aae6ac4432580f77a713ca39e53",
            "ce0352e29c044217bb6581ff8070cb7b",
            "946b90f7d9c94e6cb8083f854dbfe703",
            "10a667967ff445d6a3db24d7615e6e52",
            "bf8eec07000e43639a90c4e3883a1483",
            "5b710aeaab7e4f1dba8c8e207fe72f28",
            "96374aa3427d4b539e17a3698eaaeb43",
            "9c1e06db50eb4369b5de6c0e5b324a8d",
            "4463baaf4e194239a28f3d2c5b86b331",
            "afe527c2fd4e446a9c45b5969bcef842",
            "ff7f395e95544fbfba43312c31baa353",
            "55f4202e0d7448208f40bec8f8d32c08",
            "c13c1624c68f4f0ca65ce536a2aef4e2",
            "2dfa85255c3943d19ee2018530c9f963",
            "fa0bfbe4a851458f8e8f8251f08b7ea4",
            "80125baa6c3d4daf8bbc48578e749785",
            "7df8386777ab4bab95e990b1d9405a70",
            "9a271d2275764eb28466873dbdeb6496",
            "3899560583ce4eda9c903e6f7e7337c6",
            "47fcda27fbf94a2fb43c45c8fdaf341e",
            "776699496f784c199e5560ecf2371dcc",
            "308086ab49484f0fb20b37c5f703097c",
            "2c95b6a31b2341429fd2f64cbe788120",
            "5e7bad52578c455bad368c946013d569",
            "9db075e7775947cfa52232c4fe47eace",
            "8bffe70996e141fbbe2d02c3ecf09e21",
            "34c66f04e62a49eab7d16b8401610d2f",
            "47fcea3ea4a341d5b12f328f86e2c269",
            "714930023d944b548daad8eaeb28aa50",
            "45d152b8b70c4e938fe881e9fef670b6",
            "bef472f721e4476f95f2092cca8e2cec",
            "a0b92add67dd4e1b8c8fdd0277865d2a",
            "e9246fbba9424d0f958340b91b45e896",
            "8e8538e46c9a4340b45961892eebcf14",
            "c8427c26006f49cb8c235965ff674288",
            "a21a9f6edc0b4a6da096c67902d7f731",
            "d242c19f522249cab7f564e149971bf1",
            "5d41849ff12545868014df5b59804dac",
            "725d17157d5b479fa9033906d2ab85c0",
            "c5f641246de946f898cb928533334283",
            "8078b6ac254a44099434a683b379bb0f",
            "c0ed42e620c94f888a8442bcb1dea3bf",
            "7bdc5877c04649a6bc4090d22ec39b1b",
            "a7bc8522734741ecbc2a6a07711a56af",
            "7fc1d23e4edc4e62892a44885a2f4d75",
            "64aac3b485dd4ec3ab2209821135a72b",
            "b9982e75a9244eeea762e51e1270f624",
            "dbc692dd2ad045c18ed7257643e59cf7",
            "4a152496af58438587931ea5d88d7162",
            "eb218cb0f0124c4c85af5ddd355e2ece",
            "4865de8464fd47e9a819b4e48b529563",
            "11d385da8ef7440596abbd12326cb083",
            "f7e1a05d93d748e0956160cb871d8be8",
            "67ff3c1eef3b4d6185e2b63b20025fdd",
            "286f149e73e54ce78412604d6fd4e734",
            "c41a423f30934ceb8890727be0e4a199",
            "92572deb8eb044e7a35857ce713fc655",
            "927c06a2588a42d48331b8c0bb01ec65",
            "2d13e32ff2424d238477e2eaff62d06f",
            "d9eeb222f7774ad3b74238b791b697d0",
            "56b9b322470d401986abd0565f5fc16c",
            "518a8cc26ff5450bbba233e222900f48",
            "8c251d1e3a15428d8cd1ae8b40e0de9f",
            "8242242a596e4a83a9fb8a5134902273",
            "4ca4b25bf8e24e93ab52e031d253556c",
            "92c2107319154c19b12cae0b7349ddcd",
            "6d9c5f3a861e4ba58daaa79a15360aa9",
            "45238605b45c4688bdcb19bd8c4ac1d4",
            "41794f81307c4497a21d2a9889ece874",
            "6c3192065c5b43c7a42de0dc59f2932b",
            "d004aecdfaaf4caf9208feeb8b8a506f",
            "4ff673dd33ee4ca4b792d8e08c8c9c7b",
            "58d32032a2264f2c8fd101c48ae87c21",
            "63c52a56e90140949e24cdb961f184c2",
            "eb14d15bc304488bad8e245729734122",
            "ae62a6e4693e4acd97da5e6f90d31b47",
            "c3d62b2a3d3f447a982ab20864a6caa8",
            "3ebb12ebed59468bbfbbb024d76c9359",
            "c8454ef4713749debc91fe7d9e4c366a",
            "f7bc7c23aad2436e8c9d81c498815b62",
            "82f74f79133a40daa8ae5c4e64a36a06",
            "50aace428fb94029bddc26b4f431fad6",
            "b3a00503854142a5ba986181c7a1877c",
            "9b72848332a54770a2484de5d43bcb79",
            "7f6cbe38657b4c478e118ad96a6dbacd",
            "c102fe62836042229ccc1701bc45593e",
            "f2990d5ef9e14dc28a35e3169b8eae98",
            "76427b9fbc454aebaeb358fb697bf8bd",
            "e998e11cd43541868716ab92970ec46d",
            "a692afc2a7f449b5a94f81100e15d5a1",
            "6f28aaf20670497589e5990e1ea1f626",
            "becab96fe975419bb4d87d05d6eab5ae",
            "814e93ead7ed4c89867922005bbbfd5d",
            "a0172fa8f1d04e55bf718b1e700ed686",
            "7acc81ce5293437baa68b833aaf82592",
            "e4945f5d1d2f42e5984a63aa5fce198b",
            "0424b4d4beca4f35b7b36aa19155f534",
            "0347f11869ac45fa9b34d6993ca66c33",
            "33056e4817ee4723b4dd78e3f4ae2cfb",
            "3c88d650217e47d3b3d43db17c7bb603",
            "96979fbda89643f0a974ac42c38b0bfa",
            "da76fb73c2f840d6996cc935d25246cf",
            "33a89321d44044658b2872bdbae809eb",
            "dc16c71f005a476f983f5b2cea1509d6",
            "27a60f98c44a483c83de28b379a6edb7",
            "01037b5dbe2248b4b98d72ac520f91f9",
            "ea57196125f34e7c835a8a0aadc725d7",
            "30a1c23d8e044f608a92ae83d8ef0d51",
            "8c5b8594432b4459bd9715dbeec6bf8d",
            "4b751bcbe36849e4add2d752e0bdab1d",
            "84d9b44d3bff449eb1e61e9db65d9231",
            "6e9393bbf7ab473dadc2443bc30d7209",
            "e75aef019b654f71959da879119585ee",
            "3e77ecff83dd4a17802e23af926a6b3a",
            "eff196bd9dab45ba85b1578f00e25693",
            "56a8e7dd4461464488cf47df77759d97",
            "7a3a99d8e2f348c4ba4059a7f06d2ea4",
            "ff72ab47fc4e451186b775d1af28d7d2",
            "5ad4c9e280924f3abed6653cf5e5bcff",
            "3250e7af6cbc4f0f964d6921aede3f7f",
            "ce0ef3caa07648b8946b205ab1e525a6",
            "fcd46063095043fdbd5a2f279e8bd86b",
            "67b1d29fe86041dfa4f493bb94293ace",
            "7a804a38027d4f2b9d0c6b2173c9e5bb",
            "974fbba95db241af985dec8c4b909ee8",
            "3ff7fa5a07ac49cab0681a1b09c64f4a",
            "ff81e70e32c74692a83154eab7516571",
            "c6ece2bac75f44da9927c37d9898ef11",
            "7f90642f71374d9d853ff6bec1a01a80",
            "fd3f5ea352bc44b1bef9e1f06ee61d89",
            "f7ce154317a648e096eb2bc2619adcd1",
            "c85ccd199766427abf0ffad5101439f8",
            "99f8c5066e574967b09fde354fead41d",
            "2739a0709dbb4b95bc92fdf29c34b69b",
            "382876dbd5c3455f8f12de7b763590f2",
            "3f245fc00204401290996053684863ba",
            "2ea7d9ed5d2d4b4daa18c4d40de53021",
            "96ffb7614d6148f3afa10e1f02f9208c",
            "39a95cba4d3543d1b08972eaf9ac7635",
            "a36376393bfe43189b949872ffd971de",
            "4f10160d0a434bb082eae718db4c9d6e",
            "d6a38dcb32c84410952581f9e0528a6d",
            "8dc71e8714ef4cadb6c499e5c7c62cd8",
            "5fc77b34debe4f91a9e720f1960625a6",
            "358ed49a513e4217b599b9f839afeab2",
            "53855cfab7bb4370b790d87e33b4da0d",
            "f88f9d6a3d4447088d62add7ba532f78",
            "6545b6d2255141c0bac1001c47d7d20e",
            "d6e9139bd1c94002a47a9f5092ba8f1b",
            "d158365e5a6f4b3c99f3a780861a3e05",
            "cfd9cdce77fb4fc18849f82717ef5114",
            "83c4763217824842b576ed5ded66de8f",
            "920fb41a3a8741688d2a61306f672bb5",
            "5570c32ce954459c8ea0823949a19dca",
            "a7e87d4aae0a4c96872fc7aeaab1fc0b",
            "63431cd0e41247f28359d456f9ae1100",
            "399ab1d280b94c80b8c8a2f880c76494",
            "1f6b939e66d540648e2edf26d7942a72",
            "8953dc921f8c47f78300a81f2ffcada0",
            "7a6161edae1e4671b6a5572ea24d6746",
            "815ecaae7c024823a33674c98f8075c7",
            "bf7382ce8dc746efbb80f8333623bd20",
            "e1758b1f36da4b08907d69351c547e80",
            "36a5d3fcfda343cc835b1a517bc4078b",
            "e7ce4ff741a44ff6a5549affa952cb13",
            "034a4953a9d5486eb9c5318246cee446",
            "06e545c5b469443980cd63a0e6bc8be8",
            "e67fe3b81eaa4f399c215fed20b100c9",
            "c82b510ac60748dbb54f8a1e45f84026",
            "8da2edb0c3484c7385b574e7177cb612",
            "48974937fdc24e6097f04f29cdb8813f",
            "bf4828f987c8455d9d1a8dc77187ebd6",
            "6937ee3f95cf431ca7de1fb31b23b915",
            "f38e4fc2a5054db6b695e9eb6ff7d8ad",
            "253d0dc9aa6d4b6fb3d574bcea2fc5f3",
            "e006156d18e7426ea00165b816b1545f",
            "e75433681c2046c696a1a54f485b5d89",
            "f7799d46a4634330af72e206ee426e3c",
            "60eafe21f0e94805b4a5c71c6510e3ae",
            "8ca80138b2d04c16befdd5b7d1881cf4",
            "313424775aaa4975bf6389638440a7a0",
            "319f0a34b6d0446798c0b51b581ca857",
            "ce9f0fc23b444bf3addf82bf85f5f178",
            "548ce1027c634d80b21f4f5aa31b8dd9",
            "be935b2fef2641a89511a90d0f15f50c",
            "b0b3f5fbeb2a48f5aff75948585267ac",
            "697921d1affb41ebb235f9dcbb5d7f82",
            "58edc9651f9d4692b2265904c859a32c",
            "e630102c5487434189656664f7ce87d6",
            "214f01e87c1a43419f5755c94fe4ca4e",
            "f5a86eaa0e0f4a049fc191c13e5de355",
            "28963f0926f0463da3748211519f0f04",
            "6091a0c7826a4c53abf5e3d94023db5b",
            "4b2f2603eedc486ebec77b0f50ed1eb7",
            "16201a93b4a443afb3954ba361824d71",
            "a6c30f138ade497f82600322894f9dfa",
            "6aa8b38c54574da689d71226af58b2dd",
            "38d77dc01c5c4427be60caa263c0688f",
            "ef0c043232a64dbcbab479924703e6cf",
            "ee077dddeeb848b48a3a1f03c2a025c5",
            "44ea90aac81741a3a9aca36357604ad5",
            "331ddc0c30514c2a82f5d18b78dabe0d",
            "d7f3b43d23b84336869961ba2bfc55af",
            "b8fe5bb3f6484d3d9f3d422fa05b37c2",
            "540e1e417b10444c9696077e6e785331",
            "8ccc29b086b143b881483bdc7006cded",
            "48495da5bbeb46cd9296e9d6fe63e1cd",
            "7499ee510aa04a97b773519648ad2521",
            "a29e0b97efaa466cbd676e2dad6b4688",
            "ef779f2826034088ada393c0dfae0e72",
            "de98bbdf1be84c699bbd25bdfcadd83a",
            "19cd562f97064409b07e24412929bff7",
            "b0b8de7a5eb6422fbc7133b7c90e4ad0",
            "33b7203bda834d5fbff1125629657ba4",
            "e02ec30471bd4b28bd25b44c06863923",
            "99deb04b8c6241e183e5d40bd8d42206",
            "d93f67b64eee46cd89f7efc8ce00e8af",
            "0a0fece2932a4f18a8f1323e962c8e57",
            "851046a70d7e402f8a06557466344801",
            "d7f129c8c8c241dd94b4152e2153413c",
            "f1b0fa6a6e3d4e5d873b4a853fda6393",
            "cf7df23048404b0eaa71a7ca95bdff40",
            "76779ee73523483abf1817ca186d9813",
            "ecd3c8c4be27408caca7fd8311f2b42e",
            "50db11f398b6444b9df68671fbc70d73",
            "3c45522fd9cd4459aa01ca60d5dcf16f",
            "ac314d2c3504422fbe84621e9a6fee16",
            "65cfd942754d4334a71209ba2868eb11",
            "0077e7371eb64182a5f959117598bfcc",
            "059bde67f1b7411181750a52c7aaf2ed",
            "3b030bb4e9774be6b75794c4f46e1262",
            "adb1db73eb334adc920536800309496a",
            "3db4d627f8c74195a2bd5f2fc32736c4",
            "08c10d04c15d42c981b09daabe1dadac",
            "7a343ad805594400ab01408289971a83",
            "eec2a6f5f4314df48f38122ae0aba6f2",
            "1d4163a35bca4baf8d3c7b420f781a00",
            "bd87021a5d84481daeaf18720cbaf5de",
            "9e9f4f8332af44a694635717041a599c",
            "1a8fbbd9176c44b8904bab6e101c4afd",
            "8b0791688f3b4b968f0cfcf62d12c930",
            "9ea3a9fc9df94f689364552ecad03c58",
            "4ad35e1c1b054a3293484f2a63cc0b8a",
            "26b5c6e53bc048e6810f57d36cbe0ffb",
            "d0d9e11753ae4ee9827499ff8eede32f",
            "2321a975c59b45c4b295c33b3b2e42b2",
            "a8450db98b454e6fbb898e69be45cebb",
            "5b7998b941c54c99b88a31c1e508aa5e",
            "4ef8f44512534c79bb793c454cc8d1e5",
            "fb1460fd658b4c09841e62ccfbbe69e7",
            "2976e964bfed4bf1ac78bf56ec74bf83",
            "ad964f994f184be587ec9980c3aaf2e0",
            "b44a51a5da0f4e0abd42171f3e748397",
            "7427e7dad91a4f08ad4c3cfe65faa8ad",
            "26ad6fc91a4c4ffaa872db538a6d0c6b",
            "2d015b53b20e4d07960911bd4a00016b",
            "a9d1ea07c7b44c3792508ecfb4f6e4e8",
            "bef65b7bdc0e43a18c3db358893bb7dd",
            "e745cf8165d24531a13427c34ec5bfe4",
            "84b92ff08237488aaf5407181836550d",
            "e2151e38679d49d09b8b513a8d8f025e",
            "5224637432db498f9cb33d280db8eb4e",
            "fd8ca2d300264b95ac433a8c7f70c8f7",
            "53d94735601d40bcbf2cb5d98d210428",
            "0c536df533d24d078f03f1912089c9f0",
            "187264853d9346a3af67bf58dea76bc4",
            "5fedadabf10c4afc8d4c9507440f095a",
            "1fa693ec6c614687bf0d1698b4971e45",
            "0c379678b90f455b8de522e775b877af",
            "b2d5eeb1cca1460cabda737a40f3f4e4",
            "606f805f8fd5407db849e6f781ca0525",
            "e623a8cf428d48d28c2b84946e704107",
            "effda8afe844416a8e9d659b2a2095ee",
            "a09f1dbe8f224a52ac78b1064eb6cde0",
            "8ba95236b02c4558a4f9c106d6b68554",
            "0ee177595b0d4df38c45be3f65e253bf",
            "b2de8f69f232420c8de817b66dc1b619",
            "73115ba3b45641d9907c1c6d7812828b",
            "50c601f5eac1456ba07b2293a0f05439",
            "cc39561a4d504d8297b0d34f00862a39",
            "70502763ddc94bb8a75763c9036a3ebb",
            "b09424290330473f957e60d5fcfd8dcf",
            "bbec9d27ac4344b5aebe74b2706feff4",
            "51199e9959ee4f0cb280534455e8eb2d",
            "2660b3a8236140618427c9bd85cd5242",
            "4ddb036019b549b1a3abddbca188369b",
            "424f1bbd2f284875bee459981f9bec66",
            "aef69e45df034bf0bc93ffd8c42aec43",
            "309619aa2e1b4e0a972d170f2fa33833",
            "9cc7c68198924d1d9d09e7402cffaa0b",
            "74bf16f93d5c4d17bd77eeaa2b5eb6af",
            "65374bf4b40f438099ac5fb3e3ce0bad",
            "7349b0acb115405fb8c5673145efd2fa",
            "6654d4bdf015418bb48065d50bf5a7eb",
            "7ec27a8037e444d9bea50247dfaee2f0",
            "7106b9aec3cd4f7588c808be80cd9ed9",
            "92c43f5d49ab4b0ca0b1022a75eb012c",
            "9bff1a48b7694834b3c21cf0c1fccaab",
            "c50df586eaa34ecc96d1c49d82b01fde",
            "5a2f40ce854642ec91afe8ded65191d1",
            "e5d0733e7ea44a4184f1a258e623560a",
            "25021c36a8c744a8bf8a5dec903d4c34",
            "ec66d145aa584522b4a97a8d2cec42bd",
            "5f51261b8e8a4927bc68875403390c47",
            "610acc6026964b999692eae4b71eef30",
            "52dc2ae69b9e4b66aaf8aa1ff341d530",
            "9b99fd1cb636477e8fa8c02d985ef546",
            "d312ac7cc126494caca70a35f6963c5d",
            "27d29bbdd29549508a885dad5e359e99",
            "1fe6f7f401454d288395e7f0f73efe3e",
            "0690b93a3c384498909f40421bdac6ed",
            "e0d1d0254d1b4e86a38679d7e8254bd0",
            "59e4676f97a94fc3835fd8588e8bcc2d",
            "2a2f9c0022514fbc8fb89b13bc9e5347",
            "a1ef9b48276b47a29a2656d87ffc41d4",
            "e0386e81feea4e088c95be194db10030",
            "84a1fcc925f14bad9a29154fcb8cc994",
            "b5a0b72add69444c862c69d059a4e783",
            "f405a434f1c44be4bebffd73f69c9261",
            "bfd7ad3253764235ba7d97721e7081ae",
            "eea058a765384c688ba44a12c1e8b4bc",
            "703eecd8b0a3498ab4cd7e47bb05ad83",
            "3214822a0ab94bf5ad57a47040862330",
            "c70cbe3aefc045c7a808213c5ec9492d",
            "8664ea21837b4ce580a2fa2248a173ff",
            "198a245833c149cab3570c0d76e394a3",
            "5f4769968ca8486190990bb0836142f9",
            "82d5a8fc81964e699e5d6824d8681823",
            "26ab295926c34761a4c384d786647b2e",
            "bad66162b15b4aa3bc656b5669531d5d",
            "414eef3b6be44de0b4403a946da58f36",
            "0dedf3cf0b8349e6804bc1da51dd929c",
            "552f61684ad2453f92da34bfe8d91e15",
            "8ea7490f3ee74b9b805e35a166086291",
            "b840ec4cd0f44b7c923d83811803792d",
            "5fe0537d2f0146dcaf41a4e568a191cb",
            "153ceddcb42044458a5f9a0436caa71e",
            "87767168922a40eda4546b9e516af842",
            "395f7fe15a724fb3b4f9907a6e7e2696",
            "4261e6d5203e49548322bc71922b9caf",
            "3b956b7cc67044f2a8304151e20115a5",
            "5569b15098fc4e7584917086ea40dde5",
            "86e5f1dbdbc9458d8e035fd17d13e7a7",
            "cee93535e62440c2b7b55ed3032848fc",
            "74cd6eff9d014363948930310b808d46",
            "58531ee3f1a643799fd0f88310d455d3",
            "cfadb7d5e20740009df311dfcef9b1ee",
            "30e0dddc00714d8b826792f6c544577b",
            "c269d45a01534cc79a89cc0f854caace",
            "21e6b6f9fa5c492787b91cf66f73ef7c",
            "577ab8eafcb04322adfbd4fbd1a3905d",
            "315146bb10384664a44178d328dd2626",
            "409dae143a204a8398bfda1e3fe3593c",
            "e0ebb79c93894508ba732040d9dcd849",
            "947ec31a596042aebc89fdd59acb8917",
            "13582ced2b4f4e85a715e1729da0cd94",
            "9dbc919586894ee38f0c6bb9f2f8ed54",
            "a882de73a126400e8b329a7a45d2e84c",
            "c75cf3baad5449c3bbce913c19dd7116",
            "08ebb883f74d4e5f933306fa6c70fe04",
            "2f3c320d3272464da613feea4bd88792",
            "5e7e094fc5d946d48db1238472bb1de0",
            "4bce258c2870468082878921e8607d36",
            "9d301a66647147f8a3a464bf8a041edb",
            "037fed73fcd149d4bec903d1953f4091",
            "4ac4b4d49cdd45be82861c437c95c9aa",
            "3e6572c08d654d9abb4255273a738db4",
            "6b72f4dc207145899e4b51310a94c230",
            "65704afffbd6435eb778720c1c8da041",
            "038c27380597476e95c8bfdb2401ef7c",
            "bc107a06dfb14666af7008db714fb64e",
            "042aab8c92dd49d886812b9a22c1bbf0",
            "f7e470e44a334f65820340a5243f1c62",
            "d23614ae81c443a8be8f1a58ad2fb515",
            "37ca0fe0cf954632b1dce2507b890099",
            "2b8b4d4e8792486ab61685ba91f31e04",
            "8348a1a47ef148789eb17c27135f849e",
            "4d37638cb6a647358496dfc0ec3a4a8e",
            "d030d1b949a64782bfd5e96da46632cc",
            "60435b4e7bd448a29477b351b743c465",
            "9053bdf59afa4fd89c0e5b210d2a800c",
            "cecce97dda3744d490caa00990466e2b",
            "ef58fd2e9ef9492a866b7b81301c4826",
            "8c190c4b0c8346faa3178803b7e1fe23",
            "484fcbe65eef4f35ad207f27a636b58f",
            "328c69c21a5f46f9a8c8a48d876136f8",
            "b4cddb100e7a436f94963b4c21a7a192",
            "518bb357fe2a47faa1c2025bfb26632e",
            "1579ec505b77412c801ee09734e5507d",
            "9d51cc67c78346c781ce025fc5030bb5",
            "989fbe7230a9477dbf8825c992a9ba04",
            "be1c9f07e80e46e7a5b7a7b5fbd6b1ed",
            "77e4c3733258467cbda64b1a3970845b",
            "975a3119f44a483ba46a9bc40b97814f",
            "bea03ba1a74a48d99ee88f762a098661",
            "79b161a86e044bafaa92161f0e3e5d73",
            "391f51edfa1846f78d4284df1f760d2e",
            "0fab1ba7a9e64211a6b59d73eedccfe5",
            "14b14fa3745a49c0b7be6a2e9c5d9ca5",
            "3a6d0adf0b894fc68e677eb4997cbe30",
            "f970e7aafc7242bf8971ce5a61b797ad",
            "4759b59431cd4e0ca0b76b89c9d6e257",
            "ef795ed005b54f85b6d943d913afaab6",
            "ea2b21162a9245cabaf6a57e2b267d2c",
            "964cc5071f994ca999c30e063d2bcbc6",
            "4645541873424c14a404856d81127860",
            "d6f8c5de85e54f4092b2babc063c5e54",
            "5dc4dca7ead54da99e057790768038c7",
            "a42a102ea3834c81a463c88e8feb7461",
            "a6334aa48cf544339ac3495c1c524008",
            "c8ad1ba57a4c45f78f2f8c3cc4947de5",
            "b50dea81c35f417bb1379e994acca977",
            "560328386c354222b60fe388fdd3afad",
            "7366a2022fb540ac8ec1bc925af4f524",
            "54c9b950cd6e4a939c4b65f8b5d7e949",
            "7040c7d7f24741d2a5b7db172aedc447",
            "7d4f9f1c88a0490abec4c267c453ed78",
            "40a029b04f044eaca739ee70edfb0275",
            "38b4c8e5e648452dbf8a47b1d3f1d36f",
            "5e6c683b62274cd5bf3fe9e5d619992e",
            "b166b1a77e6b4c78ac2a7d3dd1b97cd7",
            "bc8d28f00bda48b3a41ad2ed393b52e0",
            "a756cc95d03a479fa98cd0af85b69d3c",
            "f9e6ea47b2014cebaeb8b93e4b3052c4",
            "355d63ec6ae44a3bb6e494586476cbe0",
            "c56950b5ea8340fea188dfef1a6e71ef",
            "f1cdc3ff69be42049fe3f259dd408017",
            "0ba91f9f1db5446bb66cb1daf5873b1d",
            "2607fb9598134ccdb7598eb1d1af8842",
            "fa158cb819c24f28a7dfb56ea71496c4",
            "17d30664bf194163ba633599c39372ec",
            "0dcf633d56ce4648801c082634a4d459",
            "bc045ce848fb4da78084a6179dd07fed",
            "0a57f9482299403dafea057242352f82",
            "e0f4edfe62f04805bbee870516b39b64",
            "d831bb520f0a4349919909236f10334a",
            "5cfa347640ef4d3c82467ce4300ed0b7",
            "be7f4c29d09c442783bbf15cf940d385",
            "ebbccb59ae964ab0ae4f7616777ddfb2",
            "a4c4848fc6834c0c99b0b472b46694bc",
            "b944fa9d029b4013bfa5742cd1968226",
            "d892828c6d9c498c83bb76fbe261b323",
            "672f343a9818462c91afe3f361222553",
            "767509a3705b4a41ac19e2d50a2dc2f7",
            "c61c91b7f29548e8b878d6ec957209d1",
            "0ac1629e489440ebbd3974f561046860",
            "53efb9129e1d4ab48c815a387602365d",
            "3fd5042c0f8a4b2483fb681652e23bdd",
            "d96f61c2b88c48f1b88a67089b2a153f",
            "20c0796d7f484866a9862413a2bb66cc",
            "a1e85b10cac94c88befe24d348b7787b",
            "3a959b82440b422d8d096f307d5548dd",
            "0dbec114cb2d497b9eda4bf150800349",
            "51a9eeee321e412e8308403e164cfc19",
            "2d385caefde74a84ad15014c97df7496",
            "c135a167b64f4080a2e3527954c9dee0",
            "c0369c67ffe9468ca9c7bf27c07056f4",
            "a99e036737764a6399ef5101fe7b11fd",
            "96b37b8ac29e4a9999b74de6085f7332",
            "68b10973ae0e4ce9bb42a5a66d89630c",
            "766304bae40e48fbb79e29ff05c794b7",
            "665bd9be0f544170be9b4b9cf881f1b8",
            "0698fd51721843efb2b0dc72dfc1dce4",
            "73c44307b65a4f1da750fe98adaec391",
            "600c365f914848d4aebf381ff6018947",
            "dec42adf10db421799f1fd7bba1fc290",
            "588deb7675024d5c835470c83b180d86",
            "549c63d165f94b4eb474505a411eafd4",
            "3c53fd6913f24ff18023b40548942cc0",
            "b7cce8f6342a4204bcd403ef1cfbe9db",
            "790cd6111d844c42a34a3a9c35293ef9",
            "1527df40e7a141ca8b21f4704792a7b0",
            "049e43f89e4b4b48bde9d93d6d16c215",
            "8be7a29acfd149c6b69ba577370feb59",
            "569ee06eec8a40d08454c0cd1b1759d4",
            "1bfc301bdc8243679ef2bba109f72d25",
            "29fbacac9024488d980c80d0678143c1",
            "79a0d524a53a4e40b46ec9325287f21b",
            "4beb0a43c5964d19a05c3ea418e48484",
            "523da1d889f8472b9ddfafa9dc504769",
            "359f48e32e8d49f58a16c95f7d609d41",
            "8f41850733f74edc8b851d8140b4c7b9",
            "d1df50cb93eb4937a077d1daf7fff4db",
            "43647ff5831d412499f71c3ef9dd76ad",
            "b954f2c36f384c36aac671f97abcdcec",
            "ba8891591bd746e58f14fc1f9d8ad910",
            "a75f1fae9e28491db04680ad42ca586e",
            "a582db39eceb4c5ea7a5ab6cbf17967f",
            "2cda81b91ae647d09b6a90378b43bf1c",
            "361d498ec15b404fbdfd14e15d556a08",
            "9ca2d0c48c76491e8bc0fc3a28fadccc",
            "554615b774f1402582a99ed40babafe5",
            "7a1ae68bba11402bae21b77d77887575",
            "e560808e79c0405ba72a4fc51544e9b2",
            "ff0a2b46939f49f8be77f9a342f16590",
            "6d488844c68c4270943376d4123893ac",
            "30f28852b1eb4f4386b08b11adf14469",
            "5d3dfa6a65454cf1bbb96cad7b7ec523",
            "55fabac2ed0f42d0bd48ab8ef6f1ce75",
            "8bbf625eedff4790b7bb2632f18140a6",
            "bea2a8161bb14aca81df65d381e3985f",
            "37d5f6ab0bda493b94d72cc439bf95cb",
            "d4c1f22f7f8c40bba668fa9b4880e141",
            "d8723ee346fc4001aa6c0959a7d0ca8e",
            "d6a22d0bef7d46e1b243e1b85b1cb522",
            "15f4526534b047078603120472401534",
            "68b2ab04d9d1497bb4c725ba7f915310",
            "a0a1ac0def054c7aad63e0fd3366e27a",
            "20ba922890424445861d2bbc732ddbec",
            "0a0c1fc253724b5591922c0a8e371e08",
            "a0d2e88c22e946c5993c257720f4998a",
            "f7847a96b8774f16841af0fdf46b33d8",
            "8e7d618325454a91a1cd6579e17abaf0",
            "8d5ee9b649ea4cebaee89f3a26679590",
            "c27cc0a172264dffb2887f8c356096db",
            "aa2e4db0bdea4e418d76a63dcdbe9234",
            "50a1e8dd3b9f4942aef3488643b21d98",
            "e40d2a7b5b9c4e98817e8b2a555aefb9",
            "64a15078676e423ab5a9a79b2e772a96",
            "bd1552995cfe4885856217c9dcba964b",
            "5892a76b622947b9b9408370c971ce69",
            "e3aac15fcc2e4b9ea433cbc45b2890a7",
            "481f62ce0416491683c991406dcf14db",
            "b873099900fc4ffda3fe7feea2e9072f",
            "07555e928cfd47469a957788413f1e4f",
            "65bce71707a7480f8f260fb24bf7ac78",
            "c6e051ede2874ff09cbb53475a782b6e",
            "c62fba46dd104eef830694e404736206",
            "36b3e581b93c4a87b6a6efc74807a41b",
            "e9b076a64ae841a4ab638abfe1106293",
            "75ed69ff85074072b436c807a1492273",
            "f5e6b46257894149a770e5bdd2aebb70",
            "24da5bcad171408aa6393220cd294a8d",
            "1a0f222d73234e8b88e47b3344d5f47e",
            "b9a9b2e2102c43ff8ad9c1d4c820a0d7",
            "e8ec212455c34a89915612449030cf0b",
            "c1060e07572e4241959cdc420108a906",
            "abbe2e420bfb4d2bb7615373f4e5cd6f",
            "4fe7c6466a864b2a915c11948388b4fc",
            "364c8b903c2846e099206e908ec15bb1",
            "c4b4c8757fc745ec9059a8e62dfc2a1a",
            "5b8ad93a20f649d7a55a56b9de4a3fcc",
            "d00c9430ba5745798a11237ef618f4f6",
            "dde2e5da0bc94780bdbd1a4bfc7eb9cc",
            "24f06e1b423d46b28900d12464b43998",
            "aa6d3afbb7d14b5888bf9fd5bfb0a715",
            "e474b292dd814d52856fe534d1cb4ab1",
            "47bb4b643727405db57d10f0a55b4ce3",
            "48e0205fda7745e3b6d16a81cae00bc6",
            "461e572300e244a082195825824ed52a",
            "1c86d17671314279a1240acf1b504702",
            "0c5e2283cce643f2834cfc623f2d39b0",
            "cc94523558124f9eaf175e05e11f669f",
            "d89863f107ca468b903fd5283cacb83d",
            "27fa6ecafa3a4ddc97ea9cd04b368366",
            "37c8fd4ad1f1496f8e0a148f4b5f47dc",
            "9fb90eda681f464782f87f3578c7e0ee",
            "93c3c7475a864e9280e6e3379005f65e",
            "7b65beaf12ce4d55a4c206aa1374684c",
            "8715f806e2634dfc82818ef866fb4506",
            "481d789b0ee44d8bbf0d8aebe018bddd",
            "30d0856e8dca46bd858483400b70c763",
            "0bae0c091ce04a069ef23cbabaa6a58a",
            "df328e1602a0422991e6611c4d286bec",
            "2de18b5150584e42b732b57752b0a0bc",
            "f80603127ce94957ac679bd1b22ebccb",
            "13e6f63304a040d8a300d3f942b1e43b",
            "635694369722458e8410ea3bf3abce01",
            "a10c81f7b72e4f92a9aaa5db6f43a0dd",
            "821d8ece897c48d18ab9c9c035d5d848",
            "86f8ebf01bbc444faa618a040080dd10",
            "e9bdacaf894b49439c4ef5963b658014",
            "7d80ac76b7484dc3b42a1f51d1aed5cc",
            "f6fb71ac383f4fc8ac452db069db5925",
            "67e5006f7a254001b3b9b4c33fbaeec3",
            "1c8043d721a2467488c3eb0938b0ba4b",
            "1271956579be4412922f9699b11de5b4",
            "3d00ba7412f240b5b98bacf8f836b95a",
            "1373f0d190a14ca99fffa5a0b08e30a3",
            "8d6b7a72166d4176adf779d9a56e0f26",
            "a3ae8755c864448cb645df9a99d3b527",
            "4bb007bf5871445faa119751a80ad6c8",
            "4f9dfdbe12604fd7b646b5599f0c797b",
            "fb8985f40b89414eb9438e26a6b66269",
            "ea07dd024cd34acf9164ff2a2d23df2f",
            "3596c95400f244469f418ff05b09a57a",
            "8c9c1e16b48846a6a4fc028cc21ce45f",
            "2582f22223b7484ebf566e6aed02f3b1",
            "956ce5f09deb405daa5bc3a15bd0d268",
            "a443824125724df6841286c07a041fa0",
            "bf98d08de78c48b9ba94a2c5d0bdd366",
            "4d67d71a6be749dd8596dc9046973a8c",
            "21c01ca8bdd84cb7a8059adb7981cdac",
            "af3981c16b6b49bc99e152c7ba1157fa",
            "0fd7c115f0d840b1aea73921d1325f81",
            "3da28cfe024e45cba0d4e95b208ec9bd",
            "12c56f95265142369126ea3b8454dbec",
            "94bf9bdcea2040e09df2eb46cf78a5c1",
            "b3c02d2dbc0249a0bac0eefb06c12b07",
            "f1c1e07bc9c04a9498263bcd134376a9",
            "c1460cd0fde848cfb8321bef63048277",
            "a2b7c250a0fe42fc97d7517e817e1a48",
            "66910e98e0224904be160a6bd849a0f1",
            "77ba0535dbc144c196ce86cfb2a5a1c4",
            "c79280cd66084db7a8c63ca3980f2f6b",
            "ec1cdeced85a45d8b58ca7530da50deb",
            "8e7297fe7abc45d4abe5edb91890267a",
            "ddd9e4cd4f0b457c9f74605f3477dbb7",
            "508ce35a32f34a599d061d0f972ada3f",
            "7920f7bf343f4b4d84432704fe660a5e",
            "a5c279fd40fb4bb191602eea0f77d3fe",
            "50db09f1c4e4453f83c01ae2ac23de47",
            "03c6b699f88b4b7d8b688cb8bf3480d3",
            "408369b1dc624d228ab9a914fd29e34b",
            "426c3001be304265b50e084b484b44b4",
            "5301d0acb44741468657e731d2bef4a1",
            "631b57e00d0a47bebbf06090121934b3",
            "93aefab9643942069bbaa633bd938ba2",
            "770feeb23c08440ba214794d5512c5f3",
            "7ad7d3d7e5f54c47b8f8ad385e6ca2ac",
            "87a7e0111bb34926a6ebc09eab17c872",
            "52cf07e0a2cf4b40994732d0228a8970",
            "be39d93335d44f139dfb5a3a5a9294f2",
            "3262609736754164834a359891c0317a",
            "d71c79a3b23542e3913877d00ce10124",
            "df4e5f36fa9448d2bb2fbc1afb0751c7",
            "9e3bb399e6dd46bd84b29f12c51e536e",
            "d620fee491ca4c7b9a749643cffa1a74",
            "652ca4f89dc74ad2a7e5cc0503ac3b3c",
            "931ab17e608242ed9aa713d871e04077",
            "1904647678c04053934b6847e26e3cab",
            "473158c634e1472ba83b83ff97629be4",
            "c35f9b6678ca4fbc92c2469a6ac67a6c",
            "bc51c13e38f84eabb8f3d14e9b76593d",
            "ffffc0b20c7f429b92552515fe28b910",
            "89adaceee4044ddd9e3d9f0284e656b0",
            "892b893f8bfa4bf9848790161421cd6f",
            "c978f0e9790e4958b0cfc47af75671e4",
            "2826bed2d88d496ca1db2d788814f273",
            "6e7bceff26b546eaa58a97c29fdc1f9b",
            "73f474c41abd489e9f6572c449fd8f14",
            "21c33eb60aa047508407d564df1b9769",
            "5f3318ac12804d6798dc90ce2f2258dd",
            "af3b6cae55dd4cad9510bd6b9dba8747",
            "58016758dd9a4f0fb56889f4c5ef6839",
            "fb6223b4178a4b24b907f75c3bc053b5",
            "7be478796c614ae4950c37d2b44e26a5",
            "6d060c7a049a451e8681a68b9b3ca299",
            "7cd7e95e76e84414a53df8f9b9076db9",
            "9c7a082cad5249adb8bfa36aa8055520",
            "85fca147d20c4d1cbf09792a9728a903",
            "750ec9c39851445eb74af3aed57cdb4c",
            "402d37e65d544271bb6f1e4bdc8c6e7b",
            "4c68920f5d9443f796d88d57a487d971",
            "4ffda33571c4474eb30f241d70b238de",
            "93ae8875a7ac46fe82a4a1bfcab3e9c6",
            "fbaa444f032a481189af3a61cf769446",
            "bd0f93ff8e9643fe8f96333ee10be359",
            "8ae7487e66ae4fad87f4ff5df82b3a7c",
            "e93315395e65458c94b62088cc54a475",
            "4abd0861852042518cfcc5ea32ab40c5",
            "25bdd27aae3649489e6e7fc9750ac6e8",
            "d33820fdb9ec4dc5893883d815e0a6db",
            "1c734febcdba45c481a6e3b5201bdf60",
            "20d08f7c8c7749aabadff34ef4eb8436",
            "60c39224803246cda45191b07197bd78",
            "a45c8d1f1aac4d65be5be4a8cb861481",
            "b22a4a819f0a4ef19fbecf9321719cb4",
            "0ad8f40d9e53417c8105f734879d8075",
            "39a69853ca264cb19f2140561d301857",
            "3b573087533d410cb1f2727dfce4d7e6",
            "dee2ff9833964ad1998b35092f63a405",
            "bd8161edeab64ccaadd0eded3fc354e4",
            "949682f55aa244c5b54e791d7736e12e",
            "a291ecabd1c84d1fae114abfd80d0a35",
            "df509559bee44caf9140090ecc2f2696",
            "ae0c869537ae442d890920a49d81d586",
            "ab06f35c9cc349c780f9385a37b83b89",
            "36b2ee0072c24f8a803f0707c555f724",
            "763c6a2cf50c4c468cd048ac955a8498",
            "89be8c67e7384e5f901ad8b0e7ddb93b",
            "e3e603d4483a4bb89107a600a2d62c6e",
            "8c419a44d7e34d0a81b726acdc42de43",
            "483d4dea030b4e0388778ddf24794bdf",
            "26217421889546c9a07ebff72b73c8e9",
            "03d5f04f9309485f8cb256952ea183b1",
            "6cea5daf5d8d4f63b3e5ab97e21e99f1",
            "080e48c9565445e6aec6db1c7cbcb4c1",
            "d8039e8d29de40929bfbec5e7d5ae63d",
            "64bd18bad0ca41b5813dda25029cd478",
            "c64f1eed96f94e06adab67c957dfdfc7",
            "eb3d005c0bee4c1f9d4587f1143f85d5",
            "84e9e54bd71944539c820244ac2fa025",
            "87960f649219407c9c6997059b8e1577",
            "69d8e3a9141f46628b4086703c0bee84",
            "5efd14d352d943cda0cb3007717a75fc",
            "5e317df6397c46489ec7b8aaf04b804f",
            "1b44faea45ca4221a97f1b79484054f7",
            "4c185d93dda44c0db198025707ab85df",
            "bfc2737c36e24840b3f64ee0f089d8ae",
            "2d22896795dd4a818f218a7566111b29",
            "f15de34a1e334396a8b0a935fe62511f",
            "2237fc2e252d44b0b9e81dc007ac9cb6",
            "27a38b103f2444698472c6fb6c925d55",
            "37c49be303dc42c4bc29e3420ea695af",
            "cf0637ad051b41e68ac0ca65ec38b802",
            "4f44cc67d07d41438c367f5905b3849c",
            "c64f4cdcd7874275b0a94d53c7b717ce",
            "7b8f3092ddcc4b83ada21a1a6db82bb8",
            "8496d6a721aa4560bc8c609d13d303c4",
            "01e76d6409204ff38aa90a6a755460f0",
            "a74dec7dc74447a8a9346ef6528ef056",
            "c7161ac2344747b9ab2e4096118b8a0e",
            "41c1059fcc1c4a4f898735c710a143ea",
            "6aca7c281b5f49bba9048fa36322e2b9",
            "20fd13c8d2a7425098add7fd7dfa1ace",
            "f11b309949db44e89d27644520352065",
            "8dc5bcf4a4f0406b8eaee1a41186b6dc",
            "b6cf8e089c6642caae5593bbf6d2f821",
            "a3eef57e129b4181b65361c744dba8bf",
            "180aecf4267043d5a728f11922e8d8e9",
            "2feee79e016741919b51d3fda0aad0a8",
            "7524864001b34a21974d006ee28a8791",
            "5f7781a9982540a3999aa0f09a627aac",
            "d2ecde66b2b24c78af632c89b987c580",
            "3e0aeaed769e40bf8e8dddc121d513ab",
            "1551cd2e8ed14220940952bca8d21e8b",
            "ed44ecd44bd94ec28c89fc76b565d4f4",
            "45aa325ab97041648d6b14d53c37d921",
            "ec81392ae58e439ea93c1cd8d19ea9bf",
            "e560573258ef4b90aa3492a756d959d5",
            "4ecaad3482b04b4ea1dede77de21535c",
            "ac2c71ca058c4b7583d4a71d290a5223",
            "94a1d59654614a56ac0851ab15dccf7a",
            "ed18716842934c44b4150223268bd73d",
            "c356a43f3b71469281b0b59d81b889c5",
            "b00c35cc7d9e43fd9dbd2258906712db",
            "10841226ac8f412d9994339cb3f59f42",
            "d45767c070dc4facb314fcf0fdf4136c",
            "e2abb261fc2d4190a36d91639511d920",
            "79794f3ff93640019f35a22e96751a13",
            "0b62f427b96d44978e49450d68f0e31c",
            "17ab4d47c5594b03b162c37abfe63af9",
            "c816a16ad5f3419ebeb2c96cce626221",
            "eb1d4575c43f4b0abf40a6811b7de8a6",
            "fd95afb4112d47e2878443a420032123",
            "40fc52e709ed44138ff0d65fe2c341b3",
            "8d0d6f72ed5a4aebaac1f6f3c5ae34aa",
            "c4ef95a84ad54b7798f47c35de66e4c1",
            "3e94c64798cc4e98bbef05c3be9285f0",
            "0eca23c87f2f4cff88b3dd5ef5f55867",
            "3b24879bf8cd4617ae2fa88ce0565c07",
            "4bd5d2f15fae4f889f3f074b113a23c2",
            "7d19c46112ca495ba561cc602e501c2f",
            "6533734dcaf94e478d6419bb688f0bfc",
            "d26d3683115e4e23a80c2a32c99341c5",
            "79bd26eb01314ec691fc959130afd65e",
            "3f239fa04ae2408f8d8a7b5159e8c43d",
            "e56ff94fe6264e5bbb26498e2be57f94",
            "d651c98ce8514643bde7166383f921b2",
            "e8bf6be9d65c42efac55107f44b4d254",
            "a7c10ea53887421097e45840756775af",
            "ca32b7e41d1c4cdc852d6b635ddf55be",
            "6a5155f7eccf4c6ba28ac47f2cdda6cf",
            "b5fbd378a9ce4b8eaa5801ab055e12bc",
            "5f854a6938fd4dd8afaa3deebbb31806",
            "8a697a463f494419a33cb53da470f1d9",
            "996afffc34d241d58e2c92ab3e4c55e4",
            "391eb5f56feb4d2c8b1e0ef7c0ca56f7",
            "44d322e7111e48e4a69e5d593d78acaf",
            "cc20da951e324939b4b8b5e6c34d57b5",
            "b2da5fab57dc4fb29bc65e72d69041fb",
            "cb6ed304a42245e7a2a2967af6892c67",
            "c4210f1faba94452b9456aa52198c744",
            "21f6dc43906c47a1a53b17f79165eaa2",
            "b72a711601534ce7b116d475f35c5945",
            "42b837ee10da4d8fa3cf9c29bf043f3c",
            "c2bb8074b92f4adea884532af82c17ec",
            "8d1683f9de824a0c8edaf33ab927df41",
            "7b6c4921297946658108f67c87d22b54",
            "67c58a679acd446b9545c7976811e280",
            "55718787020d4587a1a59e6e1ee5d934",
            "e41415779ae848a990a76eca81c6defb",
            "5f5a2142638a4fcb9fb5545368cd0fa5",
            "47578fd8dfa0431f9801a9cc541e7bc9",
            "e543550daed14d7893f26ad8e2860f1e",
            "fb3e36eb11704f47b0a7f0cfd04d29b3",
            "7e84146ae87e41ff9695fb3f7a0f50e3",
            "47a0ed4f984f4bb18426721cbec7a51f",
            "754f51b8834f49af9eeaeec7258e8a7c",
            "ba9e4aef86fe4ee9a7a7097ddacb785f",
            "450a63eff0ad4badbb51cab86f1d3aa3",
            "ced3ae9785fe41448b2ef09cf7951208",
            "7df371073eec4470b057e5d1c2bdf72e",
            "17af46dd6e3b4a0fba00dbaff85629bb",
            "99492e80b595464a849d600620b6a0bd",
            "f053651d44cd40c8a6ea7b24dfcc3fa5",
            "359272496ad744729031266f5702f7ff",
            "ae93837c351f4596920e5f5dd2247531",
            "49e6514aef004bb38fae7522e67f434b",
            "816633190eaf4e6ca3aea326ac9ac170",
            "c1406063ba964201b08a9c7b8d2e12a4",
            "d8878bbc541944f198de21124122fbba",
            "3a942874193649b4ac9f494ac7c49d3b",
            "65e1534e5df14382a7dd6c857c31a697",
            "c4d277ba589e4bb2bb2368323e6de931",
            "59964f6ffd094feda78d8e50033697ae",
            "fea64a1b4d2a4eb4acf3565cbda3b756",
            "1b898dc4b287406ca945a0b9deb6d6ac",
            "b48e37bff2f24d57a4d2447310073c7a",
            "ec9ef4c622454de4ac07f39f4c2f67d9",
            "80f4344124014e729b111b98c3ad6240",
            "cbf1025caccb4328adc57ea5e61b27f0",
            "2edfb0f48ce24904b0c4813fd990aa54",
            "55197504e76c4d058b022ee7f9bb591a",
            "9af18cca0ffc4ad9bf4ab05e012385a5",
            "9ba22481eec049019200b04114c5fecb",
            "88e3af77e3e3462e9dca91d28a1c9575",
            "120fef00f8ed46e2a8e9b99c057e0764",
            "fc88c933a1d84c4daee032b8932b1062",
            "e42586bd5f62490fbbb297444a9e636e",
            "63ea2afda24d4a68b6caec8f10d0a8a5",
            "b3f2dd4def014944a933e48eebc8575a",
            "ff774e66ef014bfdbccb1bc9ef50e0b8",
            "46f286acd41a4a5a95a48609c9f31c4c",
            "dcbbdd7a51c944f7b3e1a70780e5a7f5",
            "112a4412dd1049a89aa1273acc93b8f7",
            "b07105caf092420d998be2e21cdaa4ba",
            "979ca43e6db34171b1b9c1f8470fa20e",
            "38caddfbcc57446791f55a5f59165879",
            "8045a99704384a0fa96ed970e0a1d26e",
            "31ae39489a6c4153ae2b25aba7358bf1",
            "7bc1e096271241c2ad2aabda323a3ac7",
            "b6c5b56b754a47abbb47230643f43fbc",
            "dd4fa28b7c284e3abaa2142ba8b2c2bd",
            "b050e444b13d4aeeaf5ae1946223e313",
            "76247c4330d04d6aa1c641a445cafa69",
            "15b280f41165497e9f303ca2fa65081e",
            "0560184d212245ab9ef039f420e93f8e",
            "1ed03f8c2e474e3c8d5ff7a190da5bfc",
            "36fa6909d0c44508b0a2ad2db48b8e2d",
            "4747f102b257417392b05d980bd87e34",
            "818999ea3230431c83c0b41835500c56",
            "aaf2a9ba80b4415198c14c405b5d3056",
            "5c4d1c23da074756ab95fe8125b0a875",
            "43b91be692614472bfbfb1ba88a2df78",
            "6ea24639adea488e9fd55dafc512ffaa",
            "bf579b2da47e476aab91ecea38d05700",
            "45163e6a88c4412d8706e4a1c2e9491f",
            "8073419916894fa3a8cb27d3959348c2",
            "4064dff113db48f88dcfd248a61007fa",
            "5721484324d046a0aa63a906b6fce3dc",
            "27429610921f41a2b2a712cff19a3054",
            "22b93295e2e94ded8b51046f7fa01274",
            "29f3654e75bb43f187d9214b1c9cccdc",
            "7cacf3d1291044eb891a6a4a12f0338e",
            "65ec753a082a44a3a03caedbad64513f",
            "ed48fdd843d24ba291947676f3fbf48b",
            "09c8f9616bf44a1fb1ccc691d05f639a",
            "928edb05f63a4d7786e97d4c6899053f",
            "9c237e7bed57418eac15a186aef782ef",
            "ad3b790030484fbaa819561e6528540a",
            "cd1c5b512a964e489667709e13cd37f9",
            "b9e5dfc1a4ff48ca8bf9a8cc45ce4761",
            "792c22e3e9ba418d85e1f7dc384492e0",
            "703adf9ba73c460ea663d155e978d31a",
            "591e80b230c6483a9c12e7c83fd848fb",
            "c92e5c39e1ad458e95d84806e703110d",
            "8d60302d33194fd79e4dac51bf9dda0d",
            "64f7e3485bbd4a37aca4923a7958677d",
            "991d6b1f062a491bb7cfac9d86b663d7",
            "6485a4d92e7c45c9b9b96b8a20f2ae98",
            "dbeb15770f6e4267abff12ac560ce9b9",
            "d18daf75c5e7402dbb087e7081b54ff1",
            "c88f47934c9f432ead7f97054059ba71",
            "77562bc29fc24350ad575b812779915b",
            "5e41e2b5e76944bda3d9a67101955268",
            "c718c66570f546d996b4b4fce85b1215"
          ]
        },
        "id": "PXfLvl3YeYua",
        "outputId": "967635b5-1f51-4cf5-8576-2db98dd10fae"
      },
      "execution_count": null,
      "outputs": [
        {
          "output_type": "stream",
          "name": "stderr",
          "text": [
            "INFO:pytorch_lightning.utilities.rank_zero:GPU available: True (cuda), used: True\n",
            "INFO:pytorch_lightning.utilities.rank_zero:TPU available: False, using: 0 TPU cores\n",
            "INFO:pytorch_lightning.utilities.rank_zero:IPU available: False, using: 0 IPUs\n",
            "INFO:pytorch_lightning.utilities.rank_zero:HPU available: False, using: 0 HPUs\n",
            "INFO:pytorch_lightning.accelerators.cuda:LOCAL_RANK: 0 - CUDA_VISIBLE_DEVICES: [0]\n",
            "INFO:pytorch_lightning.callbacks.model_summary:\n",
            "  | Name  | Type            | Params\n",
            "------------------------------------------\n",
            "0 | model | CustomModelMain | 5.2 M \n",
            "------------------------------------------\n",
            "5.2 M     Trainable params\n",
            "0         Non-trainable params\n",
            "5.2 M     Total params\n",
            "20.706    Total estimated model params size (MB)\n"
          ]
        },
        {
          "output_type": "display_data",
          "data": {
            "text/plain": [
              "Sanity Checking: 0it [00:00, ?it/s]"
            ],
            "application/vnd.jupyter.widget-view+json": {
              "version_major": 2,
              "version_minor": 0,
              "model_id": "5a40e6f612894460a0ce7bcb78d2e0d5"
            }
          },
          "metadata": {}
        },
        {
          "output_type": "display_data",
          "data": {
            "text/plain": [
              "Training: 0it [00:00, ?it/s]"
            ],
            "application/vnd.jupyter.widget-view+json": {
              "version_major": 2,
              "version_minor": 0,
              "model_id": "aa0a849bbc684b268c886e56601f7385"
            }
          },
          "metadata": {}
        },
        {
          "output_type": "display_data",
          "data": {
            "text/plain": [
              "Validation: 0it [00:00, ?it/s]"
            ],
            "application/vnd.jupyter.widget-view+json": {
              "version_major": 2,
              "version_minor": 0,
              "model_id": "afe527c2fd4e446a9c45b5969bcef842"
            }
          },
          "metadata": {}
        },
        {
          "output_type": "display_data",
          "data": {
            "text/plain": [
              "Validation: 0it [00:00, ?it/s]"
            ],
            "application/vnd.jupyter.widget-view+json": {
              "version_major": 2,
              "version_minor": 0,
              "model_id": "776699496f784c199e5560ecf2371dcc"
            }
          },
          "metadata": {}
        },
        {
          "output_type": "display_data",
          "data": {
            "text/plain": [
              "Validation: 0it [00:00, ?it/s]"
            ],
            "application/vnd.jupyter.widget-view+json": {
              "version_major": 2,
              "version_minor": 0,
              "model_id": "a0b92add67dd4e1b8c8fdd0277865d2a"
            }
          },
          "metadata": {}
        },
        {
          "output_type": "display_data",
          "data": {
            "text/plain": [
              "Validation: 0it [00:00, ?it/s]"
            ],
            "application/vnd.jupyter.widget-view+json": {
              "version_major": 2,
              "version_minor": 0,
              "model_id": "7bdc5877c04649a6bc4090d22ec39b1b"
            }
          },
          "metadata": {}
        },
        {
          "output_type": "display_data",
          "data": {
            "text/plain": [
              "Validation: 0it [00:00, ?it/s]"
            ],
            "application/vnd.jupyter.widget-view+json": {
              "version_major": 2,
              "version_minor": 0,
              "model_id": "67ff3c1eef3b4d6185e2b63b20025fdd"
            }
          },
          "metadata": {}
        },
        {
          "output_type": "display_data",
          "data": {
            "text/plain": [
              "Validation: 0it [00:00, ?it/s]"
            ],
            "application/vnd.jupyter.widget-view+json": {
              "version_major": 2,
              "version_minor": 0,
              "model_id": "4ca4b25bf8e24e93ab52e031d253556c"
            }
          },
          "metadata": {}
        },
        {
          "output_type": "display_data",
          "data": {
            "text/plain": [
              "Validation: 0it [00:00, ?it/s]"
            ],
            "application/vnd.jupyter.widget-view+json": {
              "version_major": 2,
              "version_minor": 0,
              "model_id": "ae62a6e4693e4acd97da5e6f90d31b47"
            }
          },
          "metadata": {}
        },
        {
          "output_type": "display_data",
          "data": {
            "text/plain": [
              "Validation: 0it [00:00, ?it/s]"
            ],
            "application/vnd.jupyter.widget-view+json": {
              "version_major": 2,
              "version_minor": 0,
              "model_id": "f2990d5ef9e14dc28a35e3169b8eae98"
            }
          },
          "metadata": {}
        },
        {
          "output_type": "display_data",
          "data": {
            "text/plain": [
              "Validation: 0it [00:00, ?it/s]"
            ],
            "application/vnd.jupyter.widget-view+json": {
              "version_major": 2,
              "version_minor": 0,
              "model_id": "0347f11869ac45fa9b34d6993ca66c33"
            }
          },
          "metadata": {}
        },
        {
          "output_type": "display_data",
          "data": {
            "text/plain": [
              "Validation: 0it [00:00, ?it/s]"
            ],
            "application/vnd.jupyter.widget-view+json": {
              "version_major": 2,
              "version_minor": 0,
              "model_id": "8c5b8594432b4459bd9715dbeec6bf8d"
            }
          },
          "metadata": {}
        },
        {
          "output_type": "display_data",
          "data": {
            "text/plain": [
              "Validation: 0it [00:00, ?it/s]"
            ],
            "application/vnd.jupyter.widget-view+json": {
              "version_major": 2,
              "version_minor": 0,
              "model_id": "3250e7af6cbc4f0f964d6921aede3f7f"
            }
          },
          "metadata": {}
        },
        {
          "output_type": "display_data",
          "data": {
            "text/plain": [
              "Validation: 0it [00:00, ?it/s]"
            ],
            "application/vnd.jupyter.widget-view+json": {
              "version_major": 2,
              "version_minor": 0,
              "model_id": "f7ce154317a648e096eb2bc2619adcd1"
            }
          },
          "metadata": {}
        },
        {
          "output_type": "display_data",
          "data": {
            "text/plain": [
              "Validation: 0it [00:00, ?it/s]"
            ],
            "application/vnd.jupyter.widget-view+json": {
              "version_major": 2,
              "version_minor": 0,
              "model_id": "d6a38dcb32c84410952581f9e0528a6d"
            }
          },
          "metadata": {}
        },
        {
          "output_type": "display_data",
          "data": {
            "text/plain": [
              "Validation: 0it [00:00, ?it/s]"
            ],
            "application/vnd.jupyter.widget-view+json": {
              "version_major": 2,
              "version_minor": 0,
              "model_id": "920fb41a3a8741688d2a61306f672bb5"
            }
          },
          "metadata": {}
        },
        {
          "output_type": "display_data",
          "data": {
            "text/plain": [
              "Validation: 0it [00:00, ?it/s]"
            ],
            "application/vnd.jupyter.widget-view+json": {
              "version_major": 2,
              "version_minor": 0,
              "model_id": "36a5d3fcfda343cc835b1a517bc4078b"
            }
          },
          "metadata": {}
        },
        {
          "output_type": "display_data",
          "data": {
            "text/plain": [
              "Validation: 0it [00:00, ?it/s]"
            ],
            "application/vnd.jupyter.widget-view+json": {
              "version_major": 2,
              "version_minor": 0,
              "model_id": "253d0dc9aa6d4b6fb3d574bcea2fc5f3"
            }
          },
          "metadata": {}
        },
        {
          "output_type": "display_data",
          "data": {
            "text/plain": [
              "Validation: 0it [00:00, ?it/s]"
            ],
            "application/vnd.jupyter.widget-view+json": {
              "version_major": 2,
              "version_minor": 0,
              "model_id": "b0b3f5fbeb2a48f5aff75948585267ac"
            }
          },
          "metadata": {}
        },
        {
          "output_type": "display_data",
          "data": {
            "text/plain": [
              "Validation: 0it [00:00, ?it/s]"
            ],
            "application/vnd.jupyter.widget-view+json": {
              "version_major": 2,
              "version_minor": 0,
              "model_id": "6aa8b38c54574da689d71226af58b2dd"
            }
          },
          "metadata": {}
        },
        {
          "output_type": "display_data",
          "data": {
            "text/plain": [
              "Validation: 0it [00:00, ?it/s]"
            ],
            "application/vnd.jupyter.widget-view+json": {
              "version_major": 2,
              "version_minor": 0,
              "model_id": "7499ee510aa04a97b773519648ad2521"
            }
          },
          "metadata": {}
        },
        {
          "output_type": "display_data",
          "data": {
            "text/plain": [
              "Validation: 0it [00:00, ?it/s]"
            ],
            "application/vnd.jupyter.widget-view+json": {
              "version_major": 2,
              "version_minor": 0,
              "model_id": "851046a70d7e402f8a06557466344801"
            }
          },
          "metadata": {}
        },
        {
          "output_type": "display_data",
          "data": {
            "text/plain": [
              "Validation: 0it [00:00, ?it/s]"
            ],
            "application/vnd.jupyter.widget-view+json": {
              "version_major": 2,
              "version_minor": 0,
              "model_id": "059bde67f1b7411181750a52c7aaf2ed"
            }
          },
          "metadata": {}
        },
        {
          "output_type": "display_data",
          "data": {
            "text/plain": [
              "Validation: 0it [00:00, ?it/s]"
            ],
            "application/vnd.jupyter.widget-view+json": {
              "version_major": 2,
              "version_minor": 0,
              "model_id": "8b0791688f3b4b968f0cfcf62d12c930"
            }
          },
          "metadata": {}
        },
        {
          "output_type": "display_data",
          "data": {
            "text/plain": [
              "Validation: 0it [00:00, ?it/s]"
            ],
            "application/vnd.jupyter.widget-view+json": {
              "version_major": 2,
              "version_minor": 0,
              "model_id": "ad964f994f184be587ec9980c3aaf2e0"
            }
          },
          "metadata": {}
        },
        {
          "output_type": "display_data",
          "data": {
            "text/plain": [
              "Validation: 0it [00:00, ?it/s]"
            ],
            "application/vnd.jupyter.widget-view+json": {
              "version_major": 2,
              "version_minor": 0,
              "model_id": "fd8ca2d300264b95ac433a8c7f70c8f7"
            }
          },
          "metadata": {}
        },
        {
          "output_type": "display_data",
          "data": {
            "text/plain": [
              "Validation: 0it [00:00, ?it/s]"
            ],
            "application/vnd.jupyter.widget-view+json": {
              "version_major": 2,
              "version_minor": 0,
              "model_id": "a09f1dbe8f224a52ac78b1064eb6cde0"
            }
          },
          "metadata": {}
        },
        {
          "output_type": "stream",
          "name": "stderr",
          "text": [
            "INFO:pytorch_lightning.utilities.rank_zero:`Trainer.fit` stopped: `max_epochs=25` reached.\n",
            "INFO:pytorch_lightning.utilities.rank_zero:GPU available: True (cuda), used: True\n",
            "INFO:pytorch_lightning.utilities.rank_zero:TPU available: False, using: 0 TPU cores\n",
            "INFO:pytorch_lightning.utilities.rank_zero:IPU available: False, using: 0 IPUs\n",
            "INFO:pytorch_lightning.utilities.rank_zero:HPU available: False, using: 0 HPUs\n",
            "INFO:pytorch_lightning.accelerators.cuda:LOCAL_RANK: 0 - CUDA_VISIBLE_DEVICES: [0]\n",
            "INFO:pytorch_lightning.callbacks.model_summary:\n",
            "  | Name  | Type            | Params\n",
            "------------------------------------------\n",
            "0 | model | CustomModelMain | 5.2 M \n",
            "------------------------------------------\n",
            "5.2 M     Trainable params\n",
            "0         Non-trainable params\n",
            "5.2 M     Total params\n",
            "20.706    Total estimated model params size (MB)\n"
          ]
        },
        {
          "output_type": "display_data",
          "data": {
            "text/plain": [
              "Sanity Checking: 0it [00:00, ?it/s]"
            ],
            "application/vnd.jupyter.widget-view+json": {
              "version_major": 2,
              "version_minor": 0,
              "model_id": "2660b3a8236140618427c9bd85cd5242"
            }
          },
          "metadata": {}
        },
        {
          "output_type": "display_data",
          "data": {
            "text/plain": [
              "Training: 0it [00:00, ?it/s]"
            ],
            "application/vnd.jupyter.widget-view+json": {
              "version_major": 2,
              "version_minor": 0,
              "model_id": "7106b9aec3cd4f7588c808be80cd9ed9"
            }
          },
          "metadata": {}
        },
        {
          "output_type": "display_data",
          "data": {
            "text/plain": [
              "Validation: 0it [00:00, ?it/s]"
            ],
            "application/vnd.jupyter.widget-view+json": {
              "version_major": 2,
              "version_minor": 0,
              "model_id": "9b99fd1cb636477e8fa8c02d985ef546"
            }
          },
          "metadata": {}
        },
        {
          "output_type": "display_data",
          "data": {
            "text/plain": [
              "Validation: 0it [00:00, ?it/s]"
            ],
            "application/vnd.jupyter.widget-view+json": {
              "version_major": 2,
              "version_minor": 0,
              "model_id": "b5a0b72add69444c862c69d059a4e783"
            }
          },
          "metadata": {}
        },
        {
          "output_type": "display_data",
          "data": {
            "text/plain": [
              "Validation: 0it [00:00, ?it/s]"
            ],
            "application/vnd.jupyter.widget-view+json": {
              "version_major": 2,
              "version_minor": 0,
              "model_id": "26ab295926c34761a4c384d786647b2e"
            }
          },
          "metadata": {}
        },
        {
          "output_type": "display_data",
          "data": {
            "text/plain": [
              "Validation: 0it [00:00, ?it/s]"
            ],
            "application/vnd.jupyter.widget-view+json": {
              "version_major": 2,
              "version_minor": 0,
              "model_id": "4261e6d5203e49548322bc71922b9caf"
            }
          },
          "metadata": {}
        },
        {
          "output_type": "display_data",
          "data": {
            "text/plain": [
              "Validation: 0it [00:00, ?it/s]"
            ],
            "application/vnd.jupyter.widget-view+json": {
              "version_major": 2,
              "version_minor": 0,
              "model_id": "577ab8eafcb04322adfbd4fbd1a3905d"
            }
          },
          "metadata": {}
        },
        {
          "output_type": "display_data",
          "data": {
            "text/plain": [
              "Validation: 0it [00:00, ?it/s]"
            ],
            "application/vnd.jupyter.widget-view+json": {
              "version_major": 2,
              "version_minor": 0,
              "model_id": "5e7e094fc5d946d48db1238472bb1de0"
            }
          },
          "metadata": {}
        },
        {
          "output_type": "display_data",
          "data": {
            "text/plain": [
              "Validation: 0it [00:00, ?it/s]"
            ],
            "application/vnd.jupyter.widget-view+json": {
              "version_major": 2,
              "version_minor": 0,
              "model_id": "f7e470e44a334f65820340a5243f1c62"
            }
          },
          "metadata": {}
        },
        {
          "output_type": "display_data",
          "data": {
            "text/plain": [
              "Validation: 0it [00:00, ?it/s]"
            ],
            "application/vnd.jupyter.widget-view+json": {
              "version_major": 2,
              "version_minor": 0,
              "model_id": "8c190c4b0c8346faa3178803b7e1fe23"
            }
          },
          "metadata": {}
        },
        {
          "output_type": "display_data",
          "data": {
            "text/plain": [
              "Validation: 0it [00:00, ?it/s]"
            ],
            "application/vnd.jupyter.widget-view+json": {
              "version_major": 2,
              "version_minor": 0,
              "model_id": "bea03ba1a74a48d99ee88f762a098661"
            }
          },
          "metadata": {}
        },
        {
          "output_type": "display_data",
          "data": {
            "text/plain": [
              "Validation: 0it [00:00, ?it/s]"
            ],
            "application/vnd.jupyter.widget-view+json": {
              "version_major": 2,
              "version_minor": 0,
              "model_id": "4645541873424c14a404856d81127860"
            }
          },
          "metadata": {}
        },
        {
          "output_type": "display_data",
          "data": {
            "text/plain": [
              "Validation: 0it [00:00, ?it/s]"
            ],
            "application/vnd.jupyter.widget-view+json": {
              "version_major": 2,
              "version_minor": 0,
              "model_id": "7d4f9f1c88a0490abec4c267c453ed78"
            }
          },
          "metadata": {}
        },
        {
          "output_type": "display_data",
          "data": {
            "text/plain": [
              "Validation: 0it [00:00, ?it/s]"
            ],
            "application/vnd.jupyter.widget-view+json": {
              "version_major": 2,
              "version_minor": 0,
              "model_id": "0ba91f9f1db5446bb66cb1daf5873b1d"
            }
          },
          "metadata": {}
        },
        {
          "output_type": "display_data",
          "data": {
            "text/plain": [
              "Validation: 0it [00:00, ?it/s]"
            ],
            "application/vnd.jupyter.widget-view+json": {
              "version_major": 2,
              "version_minor": 0,
              "model_id": "ebbccb59ae964ab0ae4f7616777ddfb2"
            }
          },
          "metadata": {}
        },
        {
          "output_type": "display_data",
          "data": {
            "text/plain": [
              "Validation: 0it [00:00, ?it/s]"
            ],
            "application/vnd.jupyter.widget-view+json": {
              "version_major": 2,
              "version_minor": 0,
              "model_id": "20c0796d7f484866a9862413a2bb66cc"
            }
          },
          "metadata": {}
        },
        {
          "output_type": "display_data",
          "data": {
            "text/plain": [
              "Validation: 0it [00:00, ?it/s]"
            ],
            "application/vnd.jupyter.widget-view+json": {
              "version_major": 2,
              "version_minor": 0,
              "model_id": "766304bae40e48fbb79e29ff05c794b7"
            }
          },
          "metadata": {}
        },
        {
          "output_type": "display_data",
          "data": {
            "text/plain": [
              "Validation: 0it [00:00, ?it/s]"
            ],
            "application/vnd.jupyter.widget-view+json": {
              "version_major": 2,
              "version_minor": 0,
              "model_id": "1527df40e7a141ca8b21f4704792a7b0"
            }
          },
          "metadata": {}
        },
        {
          "output_type": "display_data",
          "data": {
            "text/plain": [
              "Validation: 0it [00:00, ?it/s]"
            ],
            "application/vnd.jupyter.widget-view+json": {
              "version_major": 2,
              "version_minor": 0,
              "model_id": "d1df50cb93eb4937a077d1daf7fff4db"
            }
          },
          "metadata": {}
        },
        {
          "output_type": "display_data",
          "data": {
            "text/plain": [
              "Validation: 0it [00:00, ?it/s]"
            ],
            "application/vnd.jupyter.widget-view+json": {
              "version_major": 2,
              "version_minor": 0,
              "model_id": "e560808e79c0405ba72a4fc51544e9b2"
            }
          },
          "metadata": {}
        },
        {
          "output_type": "display_data",
          "data": {
            "text/plain": [
              "Validation: 0it [00:00, ?it/s]"
            ],
            "application/vnd.jupyter.widget-view+json": {
              "version_major": 2,
              "version_minor": 0,
              "model_id": "d6a22d0bef7d46e1b243e1b85b1cb522"
            }
          },
          "metadata": {}
        },
        {
          "output_type": "display_data",
          "data": {
            "text/plain": [
              "Validation: 0it [00:00, ?it/s]"
            ],
            "application/vnd.jupyter.widget-view+json": {
              "version_major": 2,
              "version_minor": 0,
              "model_id": "aa2e4db0bdea4e418d76a63dcdbe9234"
            }
          },
          "metadata": {}
        },
        {
          "output_type": "display_data",
          "data": {
            "text/plain": [
              "Validation: 0it [00:00, ?it/s]"
            ],
            "application/vnd.jupyter.widget-view+json": {
              "version_major": 2,
              "version_minor": 0,
              "model_id": "c6e051ede2874ff09cbb53475a782b6e"
            }
          },
          "metadata": {}
        },
        {
          "output_type": "display_data",
          "data": {
            "text/plain": [
              "Validation: 0it [00:00, ?it/s]"
            ],
            "application/vnd.jupyter.widget-view+json": {
              "version_major": 2,
              "version_minor": 0,
              "model_id": "abbe2e420bfb4d2bb7615373f4e5cd6f"
            }
          },
          "metadata": {}
        },
        {
          "output_type": "display_data",
          "data": {
            "text/plain": [
              "Validation: 0it [00:00, ?it/s]"
            ],
            "application/vnd.jupyter.widget-view+json": {
              "version_major": 2,
              "version_minor": 0,
              "model_id": "48e0205fda7745e3b6d16a81cae00bc6"
            }
          },
          "metadata": {}
        },
        {
          "output_type": "display_data",
          "data": {
            "text/plain": [
              "Validation: 0it [00:00, ?it/s]"
            ],
            "application/vnd.jupyter.widget-view+json": {
              "version_major": 2,
              "version_minor": 0,
              "model_id": "8715f806e2634dfc82818ef866fb4506"
            }
          },
          "metadata": {}
        },
        {
          "output_type": "display_data",
          "data": {
            "text/plain": [
              "Validation: 0it [00:00, ?it/s]"
            ],
            "application/vnd.jupyter.widget-view+json": {
              "version_major": 2,
              "version_minor": 0,
              "model_id": "86f8ebf01bbc444faa618a040080dd10"
            }
          },
          "metadata": {}
        },
        {
          "output_type": "stream",
          "name": "stderr",
          "text": [
            "INFO:pytorch_lightning.utilities.rank_zero:`Trainer.fit` stopped: `max_epochs=25` reached.\n",
            "INFO:pytorch_lightning.utilities.rank_zero:GPU available: True (cuda), used: True\n",
            "INFO:pytorch_lightning.utilities.rank_zero:TPU available: False, using: 0 TPU cores\n",
            "INFO:pytorch_lightning.utilities.rank_zero:IPU available: False, using: 0 IPUs\n",
            "INFO:pytorch_lightning.utilities.rank_zero:HPU available: False, using: 0 HPUs\n",
            "INFO:pytorch_lightning.accelerators.cuda:LOCAL_RANK: 0 - CUDA_VISIBLE_DEVICES: [0]\n",
            "INFO:pytorch_lightning.callbacks.model_summary:\n",
            "  | Name  | Type            | Params\n",
            "------------------------------------------\n",
            "0 | model | CustomModelMain | 5.2 M \n",
            "------------------------------------------\n",
            "5.2 M     Trainable params\n",
            "0         Non-trainable params\n",
            "5.2 M     Total params\n",
            "20.708    Total estimated model params size (MB)\n"
          ]
        },
        {
          "output_type": "display_data",
          "data": {
            "text/plain": [
              "Sanity Checking: 0it [00:00, ?it/s]"
            ],
            "application/vnd.jupyter.widget-view+json": {
              "version_major": 2,
              "version_minor": 0,
              "model_id": "4bb007bf5871445faa119751a80ad6c8"
            }
          },
          "metadata": {}
        },
        {
          "output_type": "display_data",
          "data": {
            "text/plain": [
              "Training: 0it [00:00, ?it/s]"
            ],
            "application/vnd.jupyter.widget-view+json": {
              "version_major": 2,
              "version_minor": 0,
              "model_id": "21c01ca8bdd84cb7a8059adb7981cdac"
            }
          },
          "metadata": {}
        },
        {
          "output_type": "display_data",
          "data": {
            "text/plain": [
              "Validation: 0it [00:00, ?it/s]"
            ],
            "application/vnd.jupyter.widget-view+json": {
              "version_major": 2,
              "version_minor": 0,
              "model_id": "77ba0535dbc144c196ce86cfb2a5a1c4"
            }
          },
          "metadata": {}
        },
        {
          "output_type": "display_data",
          "data": {
            "text/plain": [
              "Validation: 0it [00:00, ?it/s]"
            ],
            "application/vnd.jupyter.widget-view+json": {
              "version_major": 2,
              "version_minor": 0,
              "model_id": "426c3001be304265b50e084b484b44b4"
            }
          },
          "metadata": {}
        },
        {
          "output_type": "display_data",
          "data": {
            "text/plain": [
              "Validation: 0it [00:00, ?it/s]"
            ],
            "application/vnd.jupyter.widget-view+json": {
              "version_major": 2,
              "version_minor": 0,
              "model_id": "df4e5f36fa9448d2bb2fbc1afb0751c7"
            }
          },
          "metadata": {}
        },
        {
          "output_type": "display_data",
          "data": {
            "text/plain": [
              "Validation: 0it [00:00, ?it/s]"
            ],
            "application/vnd.jupyter.widget-view+json": {
              "version_major": 2,
              "version_minor": 0,
              "model_id": "892b893f8bfa4bf9848790161421cd6f"
            }
          },
          "metadata": {}
        },
        {
          "output_type": "display_data",
          "data": {
            "text/plain": [
              "Validation: 0it [00:00, ?it/s]"
            ],
            "application/vnd.jupyter.widget-view+json": {
              "version_major": 2,
              "version_minor": 0,
              "model_id": "6d060c7a049a451e8681a68b9b3ca299"
            }
          },
          "metadata": {}
        },
        {
          "output_type": "display_data",
          "data": {
            "text/plain": [
              "Validation: 0it [00:00, ?it/s]"
            ],
            "application/vnd.jupyter.widget-view+json": {
              "version_major": 2,
              "version_minor": 0,
              "model_id": "8ae7487e66ae4fad87f4ff5df82b3a7c"
            }
          },
          "metadata": {}
        },
        {
          "output_type": "display_data",
          "data": {
            "text/plain": [
              "Validation: 0it [00:00, ?it/s]"
            ],
            "application/vnd.jupyter.widget-view+json": {
              "version_major": 2,
              "version_minor": 0,
              "model_id": "39a69853ca264cb19f2140561d301857"
            }
          },
          "metadata": {}
        },
        {
          "output_type": "display_data",
          "data": {
            "text/plain": [
              "Validation: 0it [00:00, ?it/s]"
            ],
            "application/vnd.jupyter.widget-view+json": {
              "version_major": 2,
              "version_minor": 0,
              "model_id": "89be8c67e7384e5f901ad8b0e7ddb93b"
            }
          },
          "metadata": {}
        },
        {
          "output_type": "display_data",
          "data": {
            "text/plain": [
              "Validation: 0it [00:00, ?it/s]"
            ],
            "application/vnd.jupyter.widget-view+json": {
              "version_major": 2,
              "version_minor": 0,
              "model_id": "eb3d005c0bee4c1f9d4587f1143f85d5"
            }
          },
          "metadata": {}
        },
        {
          "output_type": "display_data",
          "data": {
            "text/plain": [
              "Validation: 0it [00:00, ?it/s]"
            ],
            "application/vnd.jupyter.widget-view+json": {
              "version_major": 2,
              "version_minor": 0,
              "model_id": "2237fc2e252d44b0b9e81dc007ac9cb6"
            }
          },
          "metadata": {}
        },
        {
          "output_type": "display_data",
          "data": {
            "text/plain": [
              "Validation: 0it [00:00, ?it/s]"
            ],
            "application/vnd.jupyter.widget-view+json": {
              "version_major": 2,
              "version_minor": 0,
              "model_id": "41c1059fcc1c4a4f898735c710a143ea"
            }
          },
          "metadata": {}
        },
        {
          "output_type": "display_data",
          "data": {
            "text/plain": [
              "Validation: 0it [00:00, ?it/s]"
            ],
            "application/vnd.jupyter.widget-view+json": {
              "version_major": 2,
              "version_minor": 0,
              "model_id": "d2ecde66b2b24c78af632c89b987c580"
            }
          },
          "metadata": {}
        },
        {
          "output_type": "display_data",
          "data": {
            "text/plain": [
              "Validation: 0it [00:00, ?it/s]"
            ],
            "application/vnd.jupyter.widget-view+json": {
              "version_major": 2,
              "version_minor": 0,
              "model_id": "c356a43f3b71469281b0b59d81b889c5"
            }
          },
          "metadata": {}
        },
        {
          "output_type": "display_data",
          "data": {
            "text/plain": [
              "Validation: 0it [00:00, ?it/s]"
            ],
            "application/vnd.jupyter.widget-view+json": {
              "version_major": 2,
              "version_minor": 0,
              "model_id": "40fc52e709ed44138ff0d65fe2c341b3"
            }
          },
          "metadata": {}
        },
        {
          "output_type": "display_data",
          "data": {
            "text/plain": [
              "Validation: 0it [00:00, ?it/s]"
            ],
            "application/vnd.jupyter.widget-view+json": {
              "version_major": 2,
              "version_minor": 0,
              "model_id": "3f239fa04ae2408f8d8a7b5159e8c43d"
            }
          },
          "metadata": {}
        },
        {
          "output_type": "display_data",
          "data": {
            "text/plain": [
              "Validation: 0it [00:00, ?it/s]"
            ],
            "application/vnd.jupyter.widget-view+json": {
              "version_major": 2,
              "version_minor": 0,
              "model_id": "391eb5f56feb4d2c8b1e0ef7c0ca56f7"
            }
          },
          "metadata": {}
        },
        {
          "output_type": "display_data",
          "data": {
            "text/plain": [
              "Validation: 0it [00:00, ?it/s]"
            ],
            "application/vnd.jupyter.widget-view+json": {
              "version_major": 2,
              "version_minor": 0,
              "model_id": "7b6c4921297946658108f67c87d22b54"
            }
          },
          "metadata": {}
        },
        {
          "output_type": "display_data",
          "data": {
            "text/plain": [
              "Validation: 0it [00:00, ?it/s]"
            ],
            "application/vnd.jupyter.widget-view+json": {
              "version_major": 2,
              "version_minor": 0,
              "model_id": "ba9e4aef86fe4ee9a7a7097ddacb785f"
            }
          },
          "metadata": {}
        },
        {
          "output_type": "display_data",
          "data": {
            "text/plain": [
              "Validation: 0it [00:00, ?it/s]"
            ],
            "application/vnd.jupyter.widget-view+json": {
              "version_major": 2,
              "version_minor": 0,
              "model_id": "c1406063ba964201b08a9c7b8d2e12a4"
            }
          },
          "metadata": {}
        },
        {
          "output_type": "display_data",
          "data": {
            "text/plain": [
              "Validation: 0it [00:00, ?it/s]"
            ],
            "application/vnd.jupyter.widget-view+json": {
              "version_major": 2,
              "version_minor": 0,
              "model_id": "cbf1025caccb4328adc57ea5e61b27f0"
            }
          },
          "metadata": {}
        },
        {
          "output_type": "display_data",
          "data": {
            "text/plain": [
              "Validation: 0it [00:00, ?it/s]"
            ],
            "application/vnd.jupyter.widget-view+json": {
              "version_major": 2,
              "version_minor": 0,
              "model_id": "ff774e66ef014bfdbccb1bc9ef50e0b8"
            }
          },
          "metadata": {}
        },
        {
          "output_type": "display_data",
          "data": {
            "text/plain": [
              "Validation: 0it [00:00, ?it/s]"
            ],
            "application/vnd.jupyter.widget-view+json": {
              "version_major": 2,
              "version_minor": 0,
              "model_id": "dd4fa28b7c284e3abaa2142ba8b2c2bd"
            }
          },
          "metadata": {}
        },
        {
          "output_type": "display_data",
          "data": {
            "text/plain": [
              "Validation: 0it [00:00, ?it/s]"
            ],
            "application/vnd.jupyter.widget-view+json": {
              "version_major": 2,
              "version_minor": 0,
              "model_id": "43b91be692614472bfbfb1ba88a2df78"
            }
          },
          "metadata": {}
        },
        {
          "output_type": "display_data",
          "data": {
            "text/plain": [
              "Validation: 0it [00:00, ?it/s]"
            ],
            "application/vnd.jupyter.widget-view+json": {
              "version_major": 2,
              "version_minor": 0,
              "model_id": "65ec753a082a44a3a03caedbad64513f"
            }
          },
          "metadata": {}
        },
        {
          "output_type": "display_data",
          "data": {
            "text/plain": [
              "Validation: 0it [00:00, ?it/s]"
            ],
            "application/vnd.jupyter.widget-view+json": {
              "version_major": 2,
              "version_minor": 0,
              "model_id": "c92e5c39e1ad458e95d84806e703110d"
            }
          },
          "metadata": {}
        },
        {
          "output_type": "stream",
          "name": "stderr",
          "text": [
            "INFO:pytorch_lightning.utilities.rank_zero:`Trainer.fit` stopped: `max_epochs=25` reached.\n"
          ]
        }
      ]
    },
    {
      "cell_type": "code",
      "source": [
        "torch.save(age_model.state_dict(), 'age_model.pth')\n",
        "torch.save(gender_model.state_dict(), 'gender_model.pth')\n",
        "torch.save(race_model.state_dict(), 'race_model.pth')"
      ],
      "metadata": {
        "id": "niIX3kh5lAih"
      },
      "execution_count": null,
      "outputs": []
    },
    {
      "cell_type": "markdown",
      "metadata": {
        "id": "CYR75pEV9-SY"
      },
      "source": [
        "#Standalone Age Model"
      ]
    },
    {
      "cell_type": "code",
      "execution_count": null,
      "metadata": {
        "colab": {
          "base_uri": "https://localhost:8080/",
          "height": 309,
          "referenced_widgets": [
            "29588824ea0844de8cd07e421e481a2a",
            "41e429701c3f41b2a7393e064580cf28",
            "eae1361a0f7d47b8963ed87e0af80905",
            "a4528614bb83440591b78b17bda8ef31",
            "2de6e397890940759ac6d530f7399b85",
            "a01ee9622f584134b288339dc851336d",
            "edfaefdbfa8d425381a0a2c478318719",
            "8023f93ecad64b71b0390c428e6249d5",
            "8dff1bf656f44ea88e1464c8d4ad6020",
            "13b310065be64f6aa555f11dd6936269",
            "5f5b93f2c98d45629accd3143afa2f28",
            "0b0c629f9631486d9e7994ba62301e79",
            "78b7afaaad154e748009704032819972",
            "dd5375c4887c41008673b3f9556f8021",
            "1025840f4d2842d3900154783705b126",
            "d3c143fdc06640eba3fe77bdee8b2b36",
            "bec5dd23ebf1422fb79ddd31cf349c6a",
            "83c6b2cd0a724d7fa3e26834813dab0a",
            "e3c31931ccbc41869ed6be4778e363b4",
            "7d011b99a1074e9bbbbfea20bff90aac",
            "013a8afa95b6409db59335f2086900a3",
            "c3ee76bd927f4e47a03f91f3546c9e37",
            "6f457dcd810e490e96a13ee24eaa134a",
            "757c94ad26bb4cc48cc7e1da07ee87e3",
            "5a8af75c29214d1da63098104b0ec773",
            "f5a931f8d79b4de69617445ee1042ca6",
            "c3aba691a73b4e82a2e2045ef5767c83"
          ]
        },
        "id": "7gpJC92A7W56",
        "outputId": "69199fa7-a3ea-4c36-8496-d9fdbae01aaa"
      },
      "outputs": [
        {
          "name": "stderr",
          "output_type": "stream",
          "text": [
            "INFO:pytorch_lightning.utilities.rank_zero:GPU available: True (cuda), used: True\n",
            "INFO:pytorch_lightning.utilities.rank_zero:TPU available: False, using: 0 TPU cores\n",
            "INFO:pytorch_lightning.utilities.rank_zero:IPU available: False, using: 0 IPUs\n",
            "INFO:pytorch_lightning.utilities.rank_zero:HPU available: False, using: 0 HPUs\n",
            "INFO:pytorch_lightning.accelerators.cuda:LOCAL_RANK: 0 - CUDA_VISIBLE_DEVICES: [0]\n",
            "INFO:pytorch_lightning.callbacks.model_summary:\n",
            "  | Name  | Type            | Params\n",
            "------------------------------------------\n",
            "0 | model | CustomModelMain | 5.2 M \n",
            "------------------------------------------\n",
            "5.2 M     Trainable params\n",
            "0         Non-trainable params\n",
            "5.2 M     Total params\n",
            "20.706    Total estimated model params size (MB)\n"
          ]
        },
        {
          "data": {
            "application/vnd.jupyter.widget-view+json": {
              "model_id": "29588824ea0844de8cd07e421e481a2a",
              "version_major": 2,
              "version_minor": 0
            },
            "text/plain": [
              "Sanity Checking: 0it [00:00, ?it/s]"
            ]
          },
          "metadata": {},
          "output_type": "display_data"
        },
        {
          "data": {
            "application/vnd.jupyter.widget-view+json": {
              "model_id": "41e429701c3f41b2a7393e064580cf28",
              "version_major": 2,
              "version_minor": 0
            },
            "text/plain": [
              "Training: 0it [00:00, ?it/s]"
            ]
          },
          "metadata": {},
          "output_type": "display_data"
        },
        {
          "data": {
            "application/vnd.jupyter.widget-view+json": {
              "model_id": "eae1361a0f7d47b8963ed87e0af80905",
              "version_major": 2,
              "version_minor": 0
            },
            "text/plain": [
              "Validation: 0it [00:00, ?it/s]"
            ]
          },
          "metadata": {},
          "output_type": "display_data"
        },
        {
          "data": {
            "application/vnd.jupyter.widget-view+json": {
              "model_id": "a4528614bb83440591b78b17bda8ef31",
              "version_major": 2,
              "version_minor": 0
            },
            "text/plain": [
              "Validation: 0it [00:00, ?it/s]"
            ]
          },
          "metadata": {},
          "output_type": "display_data"
        },
        {
          "data": {
            "application/vnd.jupyter.widget-view+json": {
              "model_id": "2de6e397890940759ac6d530f7399b85",
              "version_major": 2,
              "version_minor": 0
            },
            "text/plain": [
              "Validation: 0it [00:00, ?it/s]"
            ]
          },
          "metadata": {},
          "output_type": "display_data"
        },
        {
          "data": {
            "application/vnd.jupyter.widget-view+json": {
              "model_id": "a01ee9622f584134b288339dc851336d",
              "version_major": 2,
              "version_minor": 0
            },
            "text/plain": [
              "Validation: 0it [00:00, ?it/s]"
            ]
          },
          "metadata": {},
          "output_type": "display_data"
        },
        {
          "data": {
            "application/vnd.jupyter.widget-view+json": {
              "model_id": "edfaefdbfa8d425381a0a2c478318719",
              "version_major": 2,
              "version_minor": 0
            },
            "text/plain": [
              "Validation: 0it [00:00, ?it/s]"
            ]
          },
          "metadata": {},
          "output_type": "display_data"
        },
        {
          "data": {
            "application/vnd.jupyter.widget-view+json": {
              "model_id": "8023f93ecad64b71b0390c428e6249d5",
              "version_major": 2,
              "version_minor": 0
            },
            "text/plain": [
              "Validation: 0it [00:00, ?it/s]"
            ]
          },
          "metadata": {},
          "output_type": "display_data"
        },
        {
          "data": {
            "application/vnd.jupyter.widget-view+json": {
              "model_id": "8dff1bf656f44ea88e1464c8d4ad6020",
              "version_major": 2,
              "version_minor": 0
            },
            "text/plain": [
              "Validation: 0it [00:00, ?it/s]"
            ]
          },
          "metadata": {},
          "output_type": "display_data"
        },
        {
          "data": {
            "application/vnd.jupyter.widget-view+json": {
              "model_id": "13b310065be64f6aa555f11dd6936269",
              "version_major": 2,
              "version_minor": 0
            },
            "text/plain": [
              "Validation: 0it [00:00, ?it/s]"
            ]
          },
          "metadata": {},
          "output_type": "display_data"
        },
        {
          "data": {
            "application/vnd.jupyter.widget-view+json": {
              "model_id": "5f5b93f2c98d45629accd3143afa2f28",
              "version_major": 2,
              "version_minor": 0
            },
            "text/plain": [
              "Validation: 0it [00:00, ?it/s]"
            ]
          },
          "metadata": {},
          "output_type": "display_data"
        },
        {
          "data": {
            "application/vnd.jupyter.widget-view+json": {
              "model_id": "0b0c629f9631486d9e7994ba62301e79",
              "version_major": 2,
              "version_minor": 0
            },
            "text/plain": [
              "Validation: 0it [00:00, ?it/s]"
            ]
          },
          "metadata": {},
          "output_type": "display_data"
        },
        {
          "data": {
            "application/vnd.jupyter.widget-view+json": {
              "model_id": "78b7afaaad154e748009704032819972",
              "version_major": 2,
              "version_minor": 0
            },
            "text/plain": [
              "Validation: 0it [00:00, ?it/s]"
            ]
          },
          "metadata": {},
          "output_type": "display_data"
        },
        {
          "data": {
            "application/vnd.jupyter.widget-view+json": {
              "model_id": "dd5375c4887c41008673b3f9556f8021",
              "version_major": 2,
              "version_minor": 0
            },
            "text/plain": [
              "Validation: 0it [00:00, ?it/s]"
            ]
          },
          "metadata": {},
          "output_type": "display_data"
        },
        {
          "data": {
            "application/vnd.jupyter.widget-view+json": {
              "model_id": "1025840f4d2842d3900154783705b126",
              "version_major": 2,
              "version_minor": 0
            },
            "text/plain": [
              "Validation: 0it [00:00, ?it/s]"
            ]
          },
          "metadata": {},
          "output_type": "display_data"
        },
        {
          "data": {
            "application/vnd.jupyter.widget-view+json": {
              "model_id": "d3c143fdc06640eba3fe77bdee8b2b36",
              "version_major": 2,
              "version_minor": 0
            },
            "text/plain": [
              "Validation: 0it [00:00, ?it/s]"
            ]
          },
          "metadata": {},
          "output_type": "display_data"
        },
        {
          "data": {
            "application/vnd.jupyter.widget-view+json": {
              "model_id": "bec5dd23ebf1422fb79ddd31cf349c6a",
              "version_major": 2,
              "version_minor": 0
            },
            "text/plain": [
              "Validation: 0it [00:00, ?it/s]"
            ]
          },
          "metadata": {},
          "output_type": "display_data"
        },
        {
          "data": {
            "application/vnd.jupyter.widget-view+json": {
              "model_id": "83c6b2cd0a724d7fa3e26834813dab0a",
              "version_major": 2,
              "version_minor": 0
            },
            "text/plain": [
              "Validation: 0it [00:00, ?it/s]"
            ]
          },
          "metadata": {},
          "output_type": "display_data"
        },
        {
          "data": {
            "application/vnd.jupyter.widget-view+json": {
              "model_id": "e3c31931ccbc41869ed6be4778e363b4",
              "version_major": 2,
              "version_minor": 0
            },
            "text/plain": [
              "Validation: 0it [00:00, ?it/s]"
            ]
          },
          "metadata": {},
          "output_type": "display_data"
        },
        {
          "data": {
            "application/vnd.jupyter.widget-view+json": {
              "model_id": "7d011b99a1074e9bbbbfea20bff90aac",
              "version_major": 2,
              "version_minor": 0
            },
            "text/plain": [
              "Validation: 0it [00:00, ?it/s]"
            ]
          },
          "metadata": {},
          "output_type": "display_data"
        },
        {
          "data": {
            "application/vnd.jupyter.widget-view+json": {
              "model_id": "013a8afa95b6409db59335f2086900a3",
              "version_major": 2,
              "version_minor": 0
            },
            "text/plain": [
              "Validation: 0it [00:00, ?it/s]"
            ]
          },
          "metadata": {},
          "output_type": "display_data"
        },
        {
          "data": {
            "application/vnd.jupyter.widget-view+json": {
              "model_id": "c3ee76bd927f4e47a03f91f3546c9e37",
              "version_major": 2,
              "version_minor": 0
            },
            "text/plain": [
              "Validation: 0it [00:00, ?it/s]"
            ]
          },
          "metadata": {},
          "output_type": "display_data"
        },
        {
          "data": {
            "application/vnd.jupyter.widget-view+json": {
              "model_id": "6f457dcd810e490e96a13ee24eaa134a",
              "version_major": 2,
              "version_minor": 0
            },
            "text/plain": [
              "Validation: 0it [00:00, ?it/s]"
            ]
          },
          "metadata": {},
          "output_type": "display_data"
        },
        {
          "data": {
            "application/vnd.jupyter.widget-view+json": {
              "model_id": "757c94ad26bb4cc48cc7e1da07ee87e3",
              "version_major": 2,
              "version_minor": 0
            },
            "text/plain": [
              "Validation: 0it [00:00, ?it/s]"
            ]
          },
          "metadata": {},
          "output_type": "display_data"
        },
        {
          "data": {
            "application/vnd.jupyter.widget-view+json": {
              "model_id": "5a8af75c29214d1da63098104b0ec773",
              "version_major": 2,
              "version_minor": 0
            },
            "text/plain": [
              "Validation: 0it [00:00, ?it/s]"
            ]
          },
          "metadata": {},
          "output_type": "display_data"
        },
        {
          "data": {
            "application/vnd.jupyter.widget-view+json": {
              "model_id": "f5a931f8d79b4de69617445ee1042ca6",
              "version_major": 2,
              "version_minor": 0
            },
            "text/plain": [
              "Validation: 0it [00:00, ?it/s]"
            ]
          },
          "metadata": {},
          "output_type": "display_data"
        },
        {
          "data": {
            "application/vnd.jupyter.widget-view+json": {
              "model_id": "c3aba691a73b4e82a2e2045ef5767c83",
              "version_major": 2,
              "version_minor": 0
            },
            "text/plain": [
              "Validation: 0it [00:00, ?it/s]"
            ]
          },
          "metadata": {},
          "output_type": "display_data"
        },
        {
          "name": "stderr",
          "output_type": "stream",
          "text": [
            "INFO:pytorch_lightning.utilities.rank_zero:`Trainer.fit` stopped: `max_epochs=25` reached.\n"
          ]
        }
      ],
      "source": [
        "# Validation Loss - 166\n",
        "class age_lightning(pl.LightningModule):\n",
        "    def __init__(self):\n",
        "        super().__init__()\n",
        "        self.model = CustomModelMain('Regression', 1)\n",
        "    def forward(self, x):\n",
        "        return self.model(x)\n",
        "    def training_step(self, batch, batch_idx):\n",
        "        x, y = batch\n",
        "        y = y[:, 0]\n",
        "        y_hat = self(x)\n",
        "        loss = F.mse_loss(y_hat, y.unsqueeze(-1).float())\n",
        "        acc = torch.eq((y_hat > 0.5).int().to(torch.int64), y.unsqueeze(-1).int()).all(dim=1).sum() / len(y)\n",
        "        self.log('train loss', loss, prog_bar = True)\n",
        "        return loss\n",
        "    def validation_step(self, batch, batch_idx):\n",
        "        x, y = batch\n",
        "        y_val = y[:, 0]\n",
        "        y_hat = self(x)\n",
        "        loss = F.mse_loss(y_hat, y_val.unsqueeze(-1).float())\n",
        "        self.log('valid loss', loss, prog_bar = True)\n",
        "    def configure_optimizers(self):\n",
        "        return torch.optim.Adam(self.parameters(), lr=1e-4)\n",
        "\n",
        "trainer = pl.Trainer(max_epochs = 25, accelerator = \"gpu\")\n",
        "age_model = age_lightning()\n",
        "\n",
        "trainer.fit(age_model, train_dl, valid_dl)"
      ]
    },
    {
      "cell_type": "markdown",
      "metadata": {
        "id": "FX0eLweS-ARM"
      },
      "source": [
        "#Standalone Gender Model"
      ]
    },
    {
      "cell_type": "code",
      "execution_count": null,
      "metadata": {
        "colab": {
          "base_uri": "https://localhost:8080/",
          "height": 309,
          "referenced_widgets": [
            "d0e8439efcd5429b8e5678c43ffb40d9",
            "b3c53bd166fa4a24be51ad3245db60d1",
            "269346535d37471ca778042be5a47f5f",
            "5469eaefec9445fd906c89cefb0b9780",
            "7efc2450ef6e4247bf28e79d0c81a003",
            "fb90bba095e64bc998f4921c243d258e",
            "de83001b086b4430b05799a773b5b290",
            "d96f74d9bd9d4a6db775e6d4e562b666",
            "51df1f03d9074869a4ad7d9722e7cdb1",
            "d2b8cc415b5f466fb75ec377a16704cf",
            "b3cd369709a14e76b0dc54960a4ef68f",
            "45e5f1a749f24534bdb33cd150774ec3",
            "3b1712558571463b81b42565510942c3",
            "854e8c6c7d2d42b7804d5f31f47b26b8",
            "a62a76e32fce4ca09d035d396be62b03",
            "c44992cd5212400487cf74384adc2441",
            "99513aa68260466385e5ed23bc86ddb2",
            "45b06ea27c1a4097a94b849942585b06",
            "361bb351cd214dca8e4ce22d1482bcde",
            "17d2b329048c43ebbd6246cb33677f24",
            "fa78acd48e8840d1a2d5ca8c98d4d649",
            "233c70ff6e704fc78c709b1a48c94edc"
          ]
        },
        "id": "VMHTIqDHdRa1",
        "outputId": "d4d4533a-f2c5-4239-969b-a80d31d6bd90"
      },
      "outputs": [
        {
          "name": "stderr",
          "output_type": "stream",
          "text": [
            "INFO:pytorch_lightning.utilities.rank_zero:GPU available: True (cuda), used: True\n",
            "INFO:pytorch_lightning.utilities.rank_zero:TPU available: False, using: 0 TPU cores\n",
            "INFO:pytorch_lightning.utilities.rank_zero:IPU available: False, using: 0 IPUs\n",
            "INFO:pytorch_lightning.utilities.rank_zero:HPU available: False, using: 0 HPUs\n",
            "INFO:pytorch_lightning.accelerators.cuda:LOCAL_RANK: 0 - CUDA_VISIBLE_DEVICES: [0]\n",
            "INFO:pytorch_lightning.callbacks.model_summary:\n",
            "  | Name  | Type            | Params\n",
            "------------------------------------------\n",
            "0 | model | CustomModelMain | 5.2 M \n",
            "------------------------------------------\n",
            "5.2 M     Trainable params\n",
            "0         Non-trainable params\n",
            "5.2 M     Total params\n",
            "20.706    Total estimated model params size (MB)\n"
          ]
        },
        {
          "data": {
            "application/vnd.jupyter.widget-view+json": {
              "model_id": "d0e8439efcd5429b8e5678c43ffb40d9",
              "version_major": 2,
              "version_minor": 0
            },
            "text/plain": [
              "Sanity Checking: 0it [00:00, ?it/s]"
            ]
          },
          "metadata": {},
          "output_type": "display_data"
        },
        {
          "data": {
            "application/vnd.jupyter.widget-view+json": {
              "model_id": "b3c53bd166fa4a24be51ad3245db60d1",
              "version_major": 2,
              "version_minor": 0
            },
            "text/plain": [
              "Training: 0it [00:00, ?it/s]"
            ]
          },
          "metadata": {},
          "output_type": "display_data"
        },
        {
          "data": {
            "application/vnd.jupyter.widget-view+json": {
              "model_id": "269346535d37471ca778042be5a47f5f",
              "version_major": 2,
              "version_minor": 0
            },
            "text/plain": [
              "Validation: 0it [00:00, ?it/s]"
            ]
          },
          "metadata": {},
          "output_type": "display_data"
        },
        {
          "data": {
            "application/vnd.jupyter.widget-view+json": {
              "model_id": "5469eaefec9445fd906c89cefb0b9780",
              "version_major": 2,
              "version_minor": 0
            },
            "text/plain": [
              "Validation: 0it [00:00, ?it/s]"
            ]
          },
          "metadata": {},
          "output_type": "display_data"
        },
        {
          "data": {
            "application/vnd.jupyter.widget-view+json": {
              "model_id": "7efc2450ef6e4247bf28e79d0c81a003",
              "version_major": 2,
              "version_minor": 0
            },
            "text/plain": [
              "Validation: 0it [00:00, ?it/s]"
            ]
          },
          "metadata": {},
          "output_type": "display_data"
        },
        {
          "data": {
            "application/vnd.jupyter.widget-view+json": {
              "model_id": "fb90bba095e64bc998f4921c243d258e",
              "version_major": 2,
              "version_minor": 0
            },
            "text/plain": [
              "Validation: 0it [00:00, ?it/s]"
            ]
          },
          "metadata": {},
          "output_type": "display_data"
        },
        {
          "data": {
            "application/vnd.jupyter.widget-view+json": {
              "model_id": "de83001b086b4430b05799a773b5b290",
              "version_major": 2,
              "version_minor": 0
            },
            "text/plain": [
              "Validation: 0it [00:00, ?it/s]"
            ]
          },
          "metadata": {},
          "output_type": "display_data"
        },
        {
          "data": {
            "application/vnd.jupyter.widget-view+json": {
              "model_id": "d96f74d9bd9d4a6db775e6d4e562b666",
              "version_major": 2,
              "version_minor": 0
            },
            "text/plain": [
              "Validation: 0it [00:00, ?it/s]"
            ]
          },
          "metadata": {},
          "output_type": "display_data"
        },
        {
          "data": {
            "application/vnd.jupyter.widget-view+json": {
              "model_id": "51df1f03d9074869a4ad7d9722e7cdb1",
              "version_major": 2,
              "version_minor": 0
            },
            "text/plain": [
              "Validation: 0it [00:00, ?it/s]"
            ]
          },
          "metadata": {},
          "output_type": "display_data"
        },
        {
          "data": {
            "application/vnd.jupyter.widget-view+json": {
              "model_id": "d2b8cc415b5f466fb75ec377a16704cf",
              "version_major": 2,
              "version_minor": 0
            },
            "text/plain": [
              "Validation: 0it [00:00, ?it/s]"
            ]
          },
          "metadata": {},
          "output_type": "display_data"
        },
        {
          "data": {
            "application/vnd.jupyter.widget-view+json": {
              "model_id": "b3cd369709a14e76b0dc54960a4ef68f",
              "version_major": 2,
              "version_minor": 0
            },
            "text/plain": [
              "Validation: 0it [00:00, ?it/s]"
            ]
          },
          "metadata": {},
          "output_type": "display_data"
        },
        {
          "data": {
            "application/vnd.jupyter.widget-view+json": {
              "model_id": "45e5f1a749f24534bdb33cd150774ec3",
              "version_major": 2,
              "version_minor": 0
            },
            "text/plain": [
              "Validation: 0it [00:00, ?it/s]"
            ]
          },
          "metadata": {},
          "output_type": "display_data"
        },
        {
          "data": {
            "application/vnd.jupyter.widget-view+json": {
              "model_id": "3b1712558571463b81b42565510942c3",
              "version_major": 2,
              "version_minor": 0
            },
            "text/plain": [
              "Validation: 0it [00:00, ?it/s]"
            ]
          },
          "metadata": {},
          "output_type": "display_data"
        },
        {
          "data": {
            "application/vnd.jupyter.widget-view+json": {
              "model_id": "854e8c6c7d2d42b7804d5f31f47b26b8",
              "version_major": 2,
              "version_minor": 0
            },
            "text/plain": [
              "Validation: 0it [00:00, ?it/s]"
            ]
          },
          "metadata": {},
          "output_type": "display_data"
        },
        {
          "data": {
            "application/vnd.jupyter.widget-view+json": {
              "model_id": "a62a76e32fce4ca09d035d396be62b03",
              "version_major": 2,
              "version_minor": 0
            },
            "text/plain": [
              "Validation: 0it [00:00, ?it/s]"
            ]
          },
          "metadata": {},
          "output_type": "display_data"
        },
        {
          "data": {
            "application/vnd.jupyter.widget-view+json": {
              "model_id": "c44992cd5212400487cf74384adc2441",
              "version_major": 2,
              "version_minor": 0
            },
            "text/plain": [
              "Validation: 0it [00:00, ?it/s]"
            ]
          },
          "metadata": {},
          "output_type": "display_data"
        },
        {
          "data": {
            "application/vnd.jupyter.widget-view+json": {
              "model_id": "99513aa68260466385e5ed23bc86ddb2",
              "version_major": 2,
              "version_minor": 0
            },
            "text/plain": [
              "Validation: 0it [00:00, ?it/s]"
            ]
          },
          "metadata": {},
          "output_type": "display_data"
        },
        {
          "data": {
            "application/vnd.jupyter.widget-view+json": {
              "model_id": "45b06ea27c1a4097a94b849942585b06",
              "version_major": 2,
              "version_minor": 0
            },
            "text/plain": [
              "Validation: 0it [00:00, ?it/s]"
            ]
          },
          "metadata": {},
          "output_type": "display_data"
        },
        {
          "data": {
            "application/vnd.jupyter.widget-view+json": {
              "model_id": "361bb351cd214dca8e4ce22d1482bcde",
              "version_major": 2,
              "version_minor": 0
            },
            "text/plain": [
              "Validation: 0it [00:00, ?it/s]"
            ]
          },
          "metadata": {},
          "output_type": "display_data"
        },
        {
          "data": {
            "application/vnd.jupyter.widget-view+json": {
              "model_id": "17d2b329048c43ebbd6246cb33677f24",
              "version_major": 2,
              "version_minor": 0
            },
            "text/plain": [
              "Validation: 0it [00:00, ?it/s]"
            ]
          },
          "metadata": {},
          "output_type": "display_data"
        },
        {
          "data": {
            "application/vnd.jupyter.widget-view+json": {
              "model_id": "fa78acd48e8840d1a2d5ca8c98d4d649",
              "version_major": 2,
              "version_minor": 0
            },
            "text/plain": [
              "Validation: 0it [00:00, ?it/s]"
            ]
          },
          "metadata": {},
          "output_type": "display_data"
        },
        {
          "data": {
            "application/vnd.jupyter.widget-view+json": {
              "model_id": "233c70ff6e704fc78c709b1a48c94edc",
              "version_major": 2,
              "version_minor": 0
            },
            "text/plain": [
              "Validation: 0it [00:00, ?it/s]"
            ]
          },
          "metadata": {},
          "output_type": "display_data"
        },
        {
          "name": "stderr",
          "output_type": "stream",
          "text": [
            "INFO:pytorch_lightning.utilities.rank_zero:`Trainer.fit` stopped: `max_epochs=20` reached.\n"
          ]
        }
      ],
      "source": [
        "# 88.5% Validation Accuracy\n",
        "class gender_lightning(pl.LightningModule):\n",
        "    def __init__(self):\n",
        "        super().__init__()\n",
        "        self.model = CustomModelMain('Classification', 1)\n",
        "    def forward(self, x):\n",
        "        return self.model(x)\n",
        "    def training_step(self, batch, batch_idx):\n",
        "        x, y = batch\n",
        "        y = y[:, 1]\n",
        "        y_hat = self(x)\n",
        "        loss = F.binary_cross_entropy(y_hat, y.unsqueeze(-1).float())\n",
        "        acc = torch.eq((y_hat > 0.5).int().to(torch.int64), y.unsqueeze(-1).int()).all(dim=1).sum() / len(y)\n",
        "        self.log('train loss', loss, prog_bar = True)\n",
        "        self.log('accuracy', acc, prog_bar = True)\n",
        "        return loss\n",
        "    def validation_step(self, batch, batch_idx):\n",
        "        x, y = batch\n",
        "        y_val = y[:, 1]\n",
        "        y_hat = self(x)\n",
        "        loss = F.binary_cross_entropy_with_logits(y_hat, y_val.unsqueeze(-1).float())\n",
        "        acc =  torch.eq((y_hat > 0.5).int().to(torch.int64), y_val.unsqueeze(-1).int()).all(dim=1).sum() / len(y_val)\n",
        "        self.log('valid loss', loss, prog_bar = True)\n",
        "        self.log('val accuracy', acc, prog_bar = True)\n",
        "    def configure_optimizers(self):\n",
        "        return torch.optim.Adam(self.parameters(), lr=1e-4)\n",
        "\n",
        "trainer = pl.Trainer(max_epochs = 20, accelerator = \"gpu\")\n",
        "gender_model = gender_lightning()\n",
        "trainer.fit(gender_model, train_dl, valid_dl)"
      ]
    },
    {
      "cell_type": "markdown",
      "metadata": {
        "id": "CpzjyFVG-CIi"
      },
      "source": [
        "#Standalone Race Model"
      ]
    },
    {
      "cell_type": "code",
      "execution_count": null,
      "metadata": {
        "colab": {
          "base_uri": "https://localhost:8080/",
          "height": 309,
          "referenced_widgets": [
            "685b303074d6455482c33123b58d63e9",
            "5d85e8c019ae4c1aa642c59f57313e10",
            "4e3107c921a74fefa28e0342cb315813",
            "2c81306370ec4ecda75b74b1e5d0ee51",
            "290ae150d3d04a4d89ebf021acc9c30e",
            "17a5e9ef844a4b6285e66f6f8769e0a0",
            "b8cb25c6a7bb4fc2864757693740ccf0",
            "d3051939c63f42f7aaa38320be6ed70c",
            "0f04d1e8ab0a49fe9f72b55a7b93ea7d",
            "6bb9c3311d5e43c8bdba8d0d9b7af052",
            "14bea4ca5de84940b4fcd9654172f3b0",
            "5d3ed1c94ac24ae2af49fc6d7e15c6cd",
            "7d71e794ba5e4abd8689a65ba1465942",
            "5ce108409c994cbba86e840d0ca79069",
            "2e766bf424fe4fe1b914736c899ed90c",
            "dad34b14e6f2465b9e2ded7e5ce505de",
            "03e502ef344140d58b52132a449a352f",
            "540eb89dd0a648918345a286d41cf29f",
            "bec8ff86cb5a47bfb5fe1966254345e9",
            "fcb2c671c93944c29ede39d6cf192853",
            "0046b87d5c2c415894dded0ce86fa82d",
            "2358b7d384014c1cab1f0bce7665e6b7"
          ]
        },
        "id": "9tyFCV8Nq6y1",
        "outputId": "f242ef99-072e-41f2-e8d4-37088978415b"
      },
      "outputs": [
        {
          "name": "stderr",
          "output_type": "stream",
          "text": [
            "INFO:pytorch_lightning.utilities.rank_zero:GPU available: True (cuda), used: True\n",
            "INFO:pytorch_lightning.utilities.rank_zero:TPU available: False, using: 0 TPU cores\n",
            "INFO:pytorch_lightning.utilities.rank_zero:IPU available: False, using: 0 IPUs\n",
            "INFO:pytorch_lightning.utilities.rank_zero:HPU available: False, using: 0 HPUs\n",
            "INFO:pytorch_lightning.accelerators.cuda:LOCAL_RANK: 0 - CUDA_VISIBLE_DEVICES: [0]\n",
            "INFO:pytorch_lightning.callbacks.model_summary:\n",
            "  | Name  | Type            | Params\n",
            "------------------------------------------\n",
            "0 | model | CustomModelMain | 5.2 M \n",
            "------------------------------------------\n",
            "5.2 M     Trainable params\n",
            "0         Non-trainable params\n",
            "5.2 M     Total params\n",
            "20.708    Total estimated model params size (MB)\n"
          ]
        },
        {
          "data": {
            "application/vnd.jupyter.widget-view+json": {
              "model_id": "685b303074d6455482c33123b58d63e9",
              "version_major": 2,
              "version_minor": 0
            },
            "text/plain": [
              "Sanity Checking: 0it [00:00, ?it/s]"
            ]
          },
          "metadata": {},
          "output_type": "display_data"
        },
        {
          "data": {
            "application/vnd.jupyter.widget-view+json": {
              "model_id": "5d85e8c019ae4c1aa642c59f57313e10",
              "version_major": 2,
              "version_minor": 0
            },
            "text/plain": [
              "Training: 0it [00:00, ?it/s]"
            ]
          },
          "metadata": {},
          "output_type": "display_data"
        },
        {
          "data": {
            "application/vnd.jupyter.widget-view+json": {
              "model_id": "4e3107c921a74fefa28e0342cb315813",
              "version_major": 2,
              "version_minor": 0
            },
            "text/plain": [
              "Validation: 0it [00:00, ?it/s]"
            ]
          },
          "metadata": {},
          "output_type": "display_data"
        },
        {
          "data": {
            "application/vnd.jupyter.widget-view+json": {
              "model_id": "2c81306370ec4ecda75b74b1e5d0ee51",
              "version_major": 2,
              "version_minor": 0
            },
            "text/plain": [
              "Validation: 0it [00:00, ?it/s]"
            ]
          },
          "metadata": {},
          "output_type": "display_data"
        },
        {
          "data": {
            "application/vnd.jupyter.widget-view+json": {
              "model_id": "290ae150d3d04a4d89ebf021acc9c30e",
              "version_major": 2,
              "version_minor": 0
            },
            "text/plain": [
              "Validation: 0it [00:00, ?it/s]"
            ]
          },
          "metadata": {},
          "output_type": "display_data"
        },
        {
          "data": {
            "application/vnd.jupyter.widget-view+json": {
              "model_id": "17a5e9ef844a4b6285e66f6f8769e0a0",
              "version_major": 2,
              "version_minor": 0
            },
            "text/plain": [
              "Validation: 0it [00:00, ?it/s]"
            ]
          },
          "metadata": {},
          "output_type": "display_data"
        },
        {
          "data": {
            "application/vnd.jupyter.widget-view+json": {
              "model_id": "b8cb25c6a7bb4fc2864757693740ccf0",
              "version_major": 2,
              "version_minor": 0
            },
            "text/plain": [
              "Validation: 0it [00:00, ?it/s]"
            ]
          },
          "metadata": {},
          "output_type": "display_data"
        },
        {
          "data": {
            "application/vnd.jupyter.widget-view+json": {
              "model_id": "d3051939c63f42f7aaa38320be6ed70c",
              "version_major": 2,
              "version_minor": 0
            },
            "text/plain": [
              "Validation: 0it [00:00, ?it/s]"
            ]
          },
          "metadata": {},
          "output_type": "display_data"
        },
        {
          "data": {
            "application/vnd.jupyter.widget-view+json": {
              "model_id": "0f04d1e8ab0a49fe9f72b55a7b93ea7d",
              "version_major": 2,
              "version_minor": 0
            },
            "text/plain": [
              "Validation: 0it [00:00, ?it/s]"
            ]
          },
          "metadata": {},
          "output_type": "display_data"
        },
        {
          "data": {
            "application/vnd.jupyter.widget-view+json": {
              "model_id": "6bb9c3311d5e43c8bdba8d0d9b7af052",
              "version_major": 2,
              "version_minor": 0
            },
            "text/plain": [
              "Validation: 0it [00:00, ?it/s]"
            ]
          },
          "metadata": {},
          "output_type": "display_data"
        },
        {
          "data": {
            "application/vnd.jupyter.widget-view+json": {
              "model_id": "14bea4ca5de84940b4fcd9654172f3b0",
              "version_major": 2,
              "version_minor": 0
            },
            "text/plain": [
              "Validation: 0it [00:00, ?it/s]"
            ]
          },
          "metadata": {},
          "output_type": "display_data"
        },
        {
          "data": {
            "application/vnd.jupyter.widget-view+json": {
              "model_id": "5d3ed1c94ac24ae2af49fc6d7e15c6cd",
              "version_major": 2,
              "version_minor": 0
            },
            "text/plain": [
              "Validation: 0it [00:00, ?it/s]"
            ]
          },
          "metadata": {},
          "output_type": "display_data"
        },
        {
          "data": {
            "application/vnd.jupyter.widget-view+json": {
              "model_id": "7d71e794ba5e4abd8689a65ba1465942",
              "version_major": 2,
              "version_minor": 0
            },
            "text/plain": [
              "Validation: 0it [00:00, ?it/s]"
            ]
          },
          "metadata": {},
          "output_type": "display_data"
        },
        {
          "data": {
            "application/vnd.jupyter.widget-view+json": {
              "model_id": "5ce108409c994cbba86e840d0ca79069",
              "version_major": 2,
              "version_minor": 0
            },
            "text/plain": [
              "Validation: 0it [00:00, ?it/s]"
            ]
          },
          "metadata": {},
          "output_type": "display_data"
        },
        {
          "data": {
            "application/vnd.jupyter.widget-view+json": {
              "model_id": "2e766bf424fe4fe1b914736c899ed90c",
              "version_major": 2,
              "version_minor": 0
            },
            "text/plain": [
              "Validation: 0it [00:00, ?it/s]"
            ]
          },
          "metadata": {},
          "output_type": "display_data"
        },
        {
          "data": {
            "application/vnd.jupyter.widget-view+json": {
              "model_id": "dad34b14e6f2465b9e2ded7e5ce505de",
              "version_major": 2,
              "version_minor": 0
            },
            "text/plain": [
              "Validation: 0it [00:00, ?it/s]"
            ]
          },
          "metadata": {},
          "output_type": "display_data"
        },
        {
          "data": {
            "application/vnd.jupyter.widget-view+json": {
              "model_id": "03e502ef344140d58b52132a449a352f",
              "version_major": 2,
              "version_minor": 0
            },
            "text/plain": [
              "Validation: 0it [00:00, ?it/s]"
            ]
          },
          "metadata": {},
          "output_type": "display_data"
        },
        {
          "data": {
            "application/vnd.jupyter.widget-view+json": {
              "model_id": "540eb89dd0a648918345a286d41cf29f",
              "version_major": 2,
              "version_minor": 0
            },
            "text/plain": [
              "Validation: 0it [00:00, ?it/s]"
            ]
          },
          "metadata": {},
          "output_type": "display_data"
        },
        {
          "data": {
            "application/vnd.jupyter.widget-view+json": {
              "model_id": "bec8ff86cb5a47bfb5fe1966254345e9",
              "version_major": 2,
              "version_minor": 0
            },
            "text/plain": [
              "Validation: 0it [00:00, ?it/s]"
            ]
          },
          "metadata": {},
          "output_type": "display_data"
        },
        {
          "data": {
            "application/vnd.jupyter.widget-view+json": {
              "model_id": "fcb2c671c93944c29ede39d6cf192853",
              "version_major": 2,
              "version_minor": 0
            },
            "text/plain": [
              "Validation: 0it [00:00, ?it/s]"
            ]
          },
          "metadata": {},
          "output_type": "display_data"
        },
        {
          "data": {
            "application/vnd.jupyter.widget-view+json": {
              "model_id": "0046b87d5c2c415894dded0ce86fa82d",
              "version_major": 2,
              "version_minor": 0
            },
            "text/plain": [
              "Validation: 0it [00:00, ?it/s]"
            ]
          },
          "metadata": {},
          "output_type": "display_data"
        },
        {
          "data": {
            "application/vnd.jupyter.widget-view+json": {
              "model_id": "2358b7d384014c1cab1f0bce7665e6b7",
              "version_major": 2,
              "version_minor": 0
            },
            "text/plain": [
              "Validation: 0it [00:00, ?it/s]"
            ]
          },
          "metadata": {},
          "output_type": "display_data"
        },
        {
          "name": "stderr",
          "output_type": "stream",
          "text": [
            "INFO:pytorch_lightning.utilities.rank_zero:`Trainer.fit` stopped: `max_epochs=20` reached.\n"
          ]
        }
      ],
      "source": [
        "# 79.0% Validation acccuracy\n",
        "import torchvision.models as models\n",
        "class race_lightning(pl.LightningModule):\n",
        "    def __init__(self):\n",
        "        super().__init__()\n",
        "        self.model = CustomModelMain('Classification', 5)\n",
        "    def forward(self, x):\n",
        "        return self.model(x)\n",
        "    def training_step(self, batch, batch_idx):\n",
        "        x, y = batch\n",
        "        y = y[:, 2]\n",
        "        y_hat = self(x)\n",
        "        y_oh = F.one_hot(y, num_classes = 5)\n",
        "        loss = F.cross_entropy(y_hat.log(), y_oh.float())\n",
        "        preds = y_hat.argmax(dim = 1)\n",
        "        acc = torch.eq(y, preds).float().mean()\n",
        "        self.log('train loss', loss, prog_bar = True)\n",
        "        self.log('accuracy', acc, prog_bar = True)\n",
        "        return loss\n",
        "    def validation_step(self, batch, batch_idx):\n",
        "        x, y = batch\n",
        "        y_val = y[:, 2]\n",
        "        y_hat = self(x)\n",
        "        y_oh = F.one_hot(y_val, num_classes = 5)\n",
        "        loss = F.cross_entropy(y_hat, y_oh.float())\n",
        "        preds = y_hat.argmax(dim = 1)\n",
        "        acc = torch.eq(y_val, preds).float().mean()\n",
        "        self.log('valid loss', loss, prog_bar = True)\n",
        "        self.log('val accuracy', acc, prog_bar = True)\n",
        "    def configure_optimizers(self):\n",
        "        return torch.optim.Adam(self.parameters(), lr=1e-4)\n",
        "\n",
        "trainer = pl.Trainer(max_epochs = 20, accelerator = \"gpu\")\n",
        "race_model = race_lightning()\n",
        "trainer.fit(race_model, train_dl, valid_dl)"
      ]
    }
  ]
}